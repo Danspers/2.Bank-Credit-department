{
  "cells": [
    {
      "cell_type": "markdown",
      "id": "bac0f272",
      "metadata": {
        "deletable": false,
        "editable": false,
        "id": "bac0f272"
      },
      "source": [
        "# Исследование надежности заемщиков\n"
      ]
    },
    {
      "cell_type": "markdown",
      "id": "0c61c1c7",
      "metadata": {
        "id": "0c61c1c7"
      },
      "source": [
        "**Описание проекта**\n",
        "\n",
        "Заказчик — кредитный отдел банка. Нужно разобраться, влияет ли семейное положение и количество детей клиента на _факт погашения кредита_ в срок. Входные данные от банка — статистика о платёжеспособности клиентов.\n",
        "\n",
        "Результаты исследования будут учтены при построении модели кредитного скоринга — специальной системы, которая оценивает способность потенциального заёмщика вернуть кредит банку.\n",
        "\n",
        "**План работы:**\n",
        "1. [Обзор данных](#section_1),\n",
        "2. [Предобработка данных](#section_2),\n",
        "3. [Исследование данных](#section_3),\n",
        "4. [Итоги исследования](#section_4)."
      ]
    },
    {
      "cell_type": "markdown",
      "id": "44b13cc1",
      "metadata": {
        "deletable": false,
        "editable": false,
        "id": "44b13cc1"
      },
      "source": [
        "<a id='section_1'></a>\n",
        "## Обзор данных"
      ]
    },
    {
      "cell_type": "markdown",
      "id": "61c029d7",
      "metadata": {
        "deletable": false,
        "editable": false,
        "id": "61c029d7"
      },
      "source": [
        "Импорт библиотек `pandas` и `seaborn`."
      ]
    },
    {
      "cell_type": "code",
      "execution_count": null,
      "id": "00720284",
      "metadata": {
        "deletable": false,
        "id": "00720284"
      },
      "outputs": [],
      "source": [
        "import pandas as pd\n",
        "import seaborn as sns"
      ]
    },
    {
      "cell_type": "markdown",
      "source": [
        "Чтение датасета `data.csv`"
      ],
      "metadata": {
        "id": "PTr8jYkntS1e"
      },
      "id": "PTr8jYkntS1e"
    },
    {
      "cell_type": "code",
      "source": [
        "try:\n",
        "    data = pd.read_csv('/datasets/data.csv') # локальная версия\n",
        "except:\n",
        "    data = pd.read_csv('https://code.s3.yandex.net/datasets/data.csv') # удалённая версия"
      ],
      "metadata": {
        "id": "IJZ3SHMUtgme"
      },
      "id": "IJZ3SHMUtgme",
      "execution_count": null,
      "outputs": []
    },
    {
      "cell_type": "markdown",
      "id": "77656b47",
      "metadata": {
        "deletable": false,
        "editable": false,
        "id": "77656b47"
      },
      "source": [
        "Вывод первые 20 строчек датафрейма `data` на экран."
      ]
    },
    {
      "cell_type": "code",
      "execution_count": null,
      "id": "eb4dfa1f",
      "metadata": {
        "deletable": false,
        "id": "eb4dfa1f",
        "outputId": "1a8f3ef2-d323-4ec2-ddf7-89670b5944c4",
        "scrolled": false
      },
      "outputs": [
        {
          "data": {
            "text/html": [
              "<div>\n",
              "<style scoped>\n",
              "    .dataframe tbody tr th:only-of-type {\n",
              "        vertical-align: middle;\n",
              "    }\n",
              "\n",
              "    .dataframe tbody tr th {\n",
              "        vertical-align: top;\n",
              "    }\n",
              "\n",
              "    .dataframe thead th {\n",
              "        text-align: right;\n",
              "    }\n",
              "</style>\n",
              "<table border=\"1\" class=\"dataframe\">\n",
              "  <thead>\n",
              "    <tr style=\"text-align: right;\">\n",
              "      <th></th>\n",
              "      <th>children</th>\n",
              "      <th>days_employed</th>\n",
              "      <th>dob_years</th>\n",
              "      <th>education</th>\n",
              "      <th>education_id</th>\n",
              "      <th>family_status</th>\n",
              "      <th>family_status_id</th>\n",
              "      <th>gender</th>\n",
              "      <th>income_type</th>\n",
              "      <th>debt</th>\n",
              "      <th>total_income</th>\n",
              "      <th>purpose</th>\n",
              "    </tr>\n",
              "  </thead>\n",
              "  <tbody>\n",
              "    <tr>\n",
              "      <th>0</th>\n",
              "      <td>1</td>\n",
              "      <td>-8437.673028</td>\n",
              "      <td>42</td>\n",
              "      <td>высшее</td>\n",
              "      <td>0</td>\n",
              "      <td>женат / замужем</td>\n",
              "      <td>0</td>\n",
              "      <td>F</td>\n",
              "      <td>сотрудник</td>\n",
              "      <td>0</td>\n",
              "      <td>253875.639453</td>\n",
              "      <td>покупка жилья</td>\n",
              "    </tr>\n",
              "    <tr>\n",
              "      <th>1</th>\n",
              "      <td>1</td>\n",
              "      <td>-4024.803754</td>\n",
              "      <td>36</td>\n",
              "      <td>среднее</td>\n",
              "      <td>1</td>\n",
              "      <td>женат / замужем</td>\n",
              "      <td>0</td>\n",
              "      <td>F</td>\n",
              "      <td>сотрудник</td>\n",
              "      <td>0</td>\n",
              "      <td>112080.014102</td>\n",
              "      <td>приобретение автомобиля</td>\n",
              "    </tr>\n",
              "    <tr>\n",
              "      <th>2</th>\n",
              "      <td>0</td>\n",
              "      <td>-5623.422610</td>\n",
              "      <td>33</td>\n",
              "      <td>Среднее</td>\n",
              "      <td>1</td>\n",
              "      <td>женат / замужем</td>\n",
              "      <td>0</td>\n",
              "      <td>M</td>\n",
              "      <td>сотрудник</td>\n",
              "      <td>0</td>\n",
              "      <td>145885.952297</td>\n",
              "      <td>покупка жилья</td>\n",
              "    </tr>\n",
              "    <tr>\n",
              "      <th>3</th>\n",
              "      <td>3</td>\n",
              "      <td>-4124.747207</td>\n",
              "      <td>32</td>\n",
              "      <td>среднее</td>\n",
              "      <td>1</td>\n",
              "      <td>женат / замужем</td>\n",
              "      <td>0</td>\n",
              "      <td>M</td>\n",
              "      <td>сотрудник</td>\n",
              "      <td>0</td>\n",
              "      <td>267628.550329</td>\n",
              "      <td>дополнительное образование</td>\n",
              "    </tr>\n",
              "    <tr>\n",
              "      <th>4</th>\n",
              "      <td>0</td>\n",
              "      <td>340266.072047</td>\n",
              "      <td>53</td>\n",
              "      <td>среднее</td>\n",
              "      <td>1</td>\n",
              "      <td>гражданский брак</td>\n",
              "      <td>1</td>\n",
              "      <td>F</td>\n",
              "      <td>пенсионер</td>\n",
              "      <td>0</td>\n",
              "      <td>158616.077870</td>\n",
              "      <td>сыграть свадьбу</td>\n",
              "    </tr>\n",
              "    <tr>\n",
              "      <th>5</th>\n",
              "      <td>0</td>\n",
              "      <td>-926.185831</td>\n",
              "      <td>27</td>\n",
              "      <td>высшее</td>\n",
              "      <td>0</td>\n",
              "      <td>гражданский брак</td>\n",
              "      <td>1</td>\n",
              "      <td>M</td>\n",
              "      <td>компаньон</td>\n",
              "      <td>0</td>\n",
              "      <td>255763.565419</td>\n",
              "      <td>покупка жилья</td>\n",
              "    </tr>\n",
              "    <tr>\n",
              "      <th>6</th>\n",
              "      <td>0</td>\n",
              "      <td>-2879.202052</td>\n",
              "      <td>43</td>\n",
              "      <td>высшее</td>\n",
              "      <td>0</td>\n",
              "      <td>женат / замужем</td>\n",
              "      <td>0</td>\n",
              "      <td>F</td>\n",
              "      <td>компаньон</td>\n",
              "      <td>0</td>\n",
              "      <td>240525.971920</td>\n",
              "      <td>операции с жильем</td>\n",
              "    </tr>\n",
              "    <tr>\n",
              "      <th>7</th>\n",
              "      <td>0</td>\n",
              "      <td>-152.779569</td>\n",
              "      <td>50</td>\n",
              "      <td>СРЕДНЕЕ</td>\n",
              "      <td>1</td>\n",
              "      <td>женат / замужем</td>\n",
              "      <td>0</td>\n",
              "      <td>M</td>\n",
              "      <td>сотрудник</td>\n",
              "      <td>0</td>\n",
              "      <td>135823.934197</td>\n",
              "      <td>образование</td>\n",
              "    </tr>\n",
              "    <tr>\n",
              "      <th>8</th>\n",
              "      <td>2</td>\n",
              "      <td>-6929.865299</td>\n",
              "      <td>35</td>\n",
              "      <td>ВЫСШЕЕ</td>\n",
              "      <td>0</td>\n",
              "      <td>гражданский брак</td>\n",
              "      <td>1</td>\n",
              "      <td>F</td>\n",
              "      <td>сотрудник</td>\n",
              "      <td>0</td>\n",
              "      <td>95856.832424</td>\n",
              "      <td>на проведение свадьбы</td>\n",
              "    </tr>\n",
              "    <tr>\n",
              "      <th>9</th>\n",
              "      <td>0</td>\n",
              "      <td>-2188.756445</td>\n",
              "      <td>41</td>\n",
              "      <td>среднее</td>\n",
              "      <td>1</td>\n",
              "      <td>женат / замужем</td>\n",
              "      <td>0</td>\n",
              "      <td>M</td>\n",
              "      <td>сотрудник</td>\n",
              "      <td>0</td>\n",
              "      <td>144425.938277</td>\n",
              "      <td>покупка жилья для семьи</td>\n",
              "    </tr>\n",
              "    <tr>\n",
              "      <th>10</th>\n",
              "      <td>2</td>\n",
              "      <td>-4171.483647</td>\n",
              "      <td>36</td>\n",
              "      <td>высшее</td>\n",
              "      <td>0</td>\n",
              "      <td>женат / замужем</td>\n",
              "      <td>0</td>\n",
              "      <td>M</td>\n",
              "      <td>компаньон</td>\n",
              "      <td>0</td>\n",
              "      <td>113943.491460</td>\n",
              "      <td>покупка недвижимости</td>\n",
              "    </tr>\n",
              "    <tr>\n",
              "      <th>11</th>\n",
              "      <td>0</td>\n",
              "      <td>-792.701887</td>\n",
              "      <td>40</td>\n",
              "      <td>среднее</td>\n",
              "      <td>1</td>\n",
              "      <td>женат / замужем</td>\n",
              "      <td>0</td>\n",
              "      <td>F</td>\n",
              "      <td>сотрудник</td>\n",
              "      <td>0</td>\n",
              "      <td>77069.234271</td>\n",
              "      <td>покупка коммерческой недвижимости</td>\n",
              "    </tr>\n",
              "    <tr>\n",
              "      <th>12</th>\n",
              "      <td>0</td>\n",
              "      <td>NaN</td>\n",
              "      <td>65</td>\n",
              "      <td>среднее</td>\n",
              "      <td>1</td>\n",
              "      <td>гражданский брак</td>\n",
              "      <td>1</td>\n",
              "      <td>M</td>\n",
              "      <td>пенсионер</td>\n",
              "      <td>0</td>\n",
              "      <td>NaN</td>\n",
              "      <td>сыграть свадьбу</td>\n",
              "    </tr>\n",
              "    <tr>\n",
              "      <th>13</th>\n",
              "      <td>0</td>\n",
              "      <td>-1846.641941</td>\n",
              "      <td>54</td>\n",
              "      <td>неоконченное высшее</td>\n",
              "      <td>2</td>\n",
              "      <td>женат / замужем</td>\n",
              "      <td>0</td>\n",
              "      <td>F</td>\n",
              "      <td>сотрудник</td>\n",
              "      <td>0</td>\n",
              "      <td>130458.228857</td>\n",
              "      <td>приобретение автомобиля</td>\n",
              "    </tr>\n",
              "    <tr>\n",
              "      <th>14</th>\n",
              "      <td>0</td>\n",
              "      <td>-1844.956182</td>\n",
              "      <td>56</td>\n",
              "      <td>высшее</td>\n",
              "      <td>0</td>\n",
              "      <td>гражданский брак</td>\n",
              "      <td>1</td>\n",
              "      <td>F</td>\n",
              "      <td>компаньон</td>\n",
              "      <td>1</td>\n",
              "      <td>165127.911772</td>\n",
              "      <td>покупка жилой недвижимости</td>\n",
              "    </tr>\n",
              "    <tr>\n",
              "      <th>15</th>\n",
              "      <td>1</td>\n",
              "      <td>-972.364419</td>\n",
              "      <td>26</td>\n",
              "      <td>среднее</td>\n",
              "      <td>1</td>\n",
              "      <td>женат / замужем</td>\n",
              "      <td>0</td>\n",
              "      <td>F</td>\n",
              "      <td>сотрудник</td>\n",
              "      <td>0</td>\n",
              "      <td>116820.904450</td>\n",
              "      <td>строительство собственной недвижимости</td>\n",
              "    </tr>\n",
              "    <tr>\n",
              "      <th>16</th>\n",
              "      <td>0</td>\n",
              "      <td>-1719.934226</td>\n",
              "      <td>35</td>\n",
              "      <td>среднее</td>\n",
              "      <td>1</td>\n",
              "      <td>женат / замужем</td>\n",
              "      <td>0</td>\n",
              "      <td>F</td>\n",
              "      <td>сотрудник</td>\n",
              "      <td>0</td>\n",
              "      <td>289202.704229</td>\n",
              "      <td>недвижимость</td>\n",
              "    </tr>\n",
              "    <tr>\n",
              "      <th>17</th>\n",
              "      <td>0</td>\n",
              "      <td>-2369.999720</td>\n",
              "      <td>33</td>\n",
              "      <td>высшее</td>\n",
              "      <td>0</td>\n",
              "      <td>гражданский брак</td>\n",
              "      <td>1</td>\n",
              "      <td>M</td>\n",
              "      <td>сотрудник</td>\n",
              "      <td>0</td>\n",
              "      <td>90410.586745</td>\n",
              "      <td>строительство недвижимости</td>\n",
              "    </tr>\n",
              "    <tr>\n",
              "      <th>18</th>\n",
              "      <td>0</td>\n",
              "      <td>400281.136913</td>\n",
              "      <td>53</td>\n",
              "      <td>среднее</td>\n",
              "      <td>1</td>\n",
              "      <td>вдовец / вдова</td>\n",
              "      <td>2</td>\n",
              "      <td>F</td>\n",
              "      <td>пенсионер</td>\n",
              "      <td>0</td>\n",
              "      <td>56823.777243</td>\n",
              "      <td>на покупку подержанного автомобиля</td>\n",
              "    </tr>\n",
              "    <tr>\n",
              "      <th>19</th>\n",
              "      <td>0</td>\n",
              "      <td>-10038.818549</td>\n",
              "      <td>48</td>\n",
              "      <td>СРЕДНЕЕ</td>\n",
              "      <td>1</td>\n",
              "      <td>в разводе</td>\n",
              "      <td>3</td>\n",
              "      <td>F</td>\n",
              "      <td>сотрудник</td>\n",
              "      <td>0</td>\n",
              "      <td>242831.107982</td>\n",
              "      <td>на покупку своего автомобиля</td>\n",
              "    </tr>\n",
              "  </tbody>\n",
              "</table>\n",
              "</div>"
            ],
            "text/plain": [
              "    children  days_employed  dob_years            education  education_id  \\\n",
              "0          1   -8437.673028         42               высшее             0   \n",
              "1          1   -4024.803754         36              среднее             1   \n",
              "2          0   -5623.422610         33              Среднее             1   \n",
              "3          3   -4124.747207         32              среднее             1   \n",
              "4          0  340266.072047         53              среднее             1   \n",
              "5          0    -926.185831         27               высшее             0   \n",
              "6          0   -2879.202052         43               высшее             0   \n",
              "7          0    -152.779569         50              СРЕДНЕЕ             1   \n",
              "8          2   -6929.865299         35               ВЫСШЕЕ             0   \n",
              "9          0   -2188.756445         41              среднее             1   \n",
              "10         2   -4171.483647         36               высшее             0   \n",
              "11         0    -792.701887         40              среднее             1   \n",
              "12         0            NaN         65              среднее             1   \n",
              "13         0   -1846.641941         54  неоконченное высшее             2   \n",
              "14         0   -1844.956182         56               высшее             0   \n",
              "15         1    -972.364419         26              среднее             1   \n",
              "16         0   -1719.934226         35              среднее             1   \n",
              "17         0   -2369.999720         33               высшее             0   \n",
              "18         0  400281.136913         53              среднее             1   \n",
              "19         0  -10038.818549         48              СРЕДНЕЕ             1   \n",
              "\n",
              "       family_status  family_status_id gender income_type  debt  \\\n",
              "0    женат / замужем                 0      F   сотрудник     0   \n",
              "1    женат / замужем                 0      F   сотрудник     0   \n",
              "2    женат / замужем                 0      M   сотрудник     0   \n",
              "3    женат / замужем                 0      M   сотрудник     0   \n",
              "4   гражданский брак                 1      F   пенсионер     0   \n",
              "5   гражданский брак                 1      M   компаньон     0   \n",
              "6    женат / замужем                 0      F   компаньон     0   \n",
              "7    женат / замужем                 0      M   сотрудник     0   \n",
              "8   гражданский брак                 1      F   сотрудник     0   \n",
              "9    женат / замужем                 0      M   сотрудник     0   \n",
              "10   женат / замужем                 0      M   компаньон     0   \n",
              "11   женат / замужем                 0      F   сотрудник     0   \n",
              "12  гражданский брак                 1      M   пенсионер     0   \n",
              "13   женат / замужем                 0      F   сотрудник     0   \n",
              "14  гражданский брак                 1      F   компаньон     1   \n",
              "15   женат / замужем                 0      F   сотрудник     0   \n",
              "16   женат / замужем                 0      F   сотрудник     0   \n",
              "17  гражданский брак                 1      M   сотрудник     0   \n",
              "18    вдовец / вдова                 2      F   пенсионер     0   \n",
              "19         в разводе                 3      F   сотрудник     0   \n",
              "\n",
              "     total_income                                 purpose  \n",
              "0   253875.639453                           покупка жилья  \n",
              "1   112080.014102                 приобретение автомобиля  \n",
              "2   145885.952297                           покупка жилья  \n",
              "3   267628.550329              дополнительное образование  \n",
              "4   158616.077870                         сыграть свадьбу  \n",
              "5   255763.565419                           покупка жилья  \n",
              "6   240525.971920                       операции с жильем  \n",
              "7   135823.934197                             образование  \n",
              "8    95856.832424                   на проведение свадьбы  \n",
              "9   144425.938277                 покупка жилья для семьи  \n",
              "10  113943.491460                    покупка недвижимости  \n",
              "11   77069.234271       покупка коммерческой недвижимости  \n",
              "12            NaN                         сыграть свадьбу  \n",
              "13  130458.228857                 приобретение автомобиля  \n",
              "14  165127.911772              покупка жилой недвижимости  \n",
              "15  116820.904450  строительство собственной недвижимости  \n",
              "16  289202.704229                            недвижимость  \n",
              "17   90410.586745              строительство недвижимости  \n",
              "18   56823.777243      на покупку подержанного автомобиля  \n",
              "19  242831.107982            на покупку своего автомобиля  "
            ]
          },
          "execution_count": 2,
          "metadata": {},
          "output_type": "execute_result"
        }
      ],
      "source": [
        "data.head(20)"
      ]
    },
    {
      "cell_type": "markdown",
      "id": "846462f5",
      "metadata": {
        "id": "846462f5"
      },
      "source": [
        "**Описание данных:**\n",
        "- `children` — количество детей в семье\n",
        "- `days_employed` — общий трудовой стаж в днях\n",
        "- `dob_years` — возраст клиента в годах\n",
        "- `education` — уровень образования клиента\n",
        "- `education_id` — идентификатор уровня образования\n",
        "- `family_status` — семейное положение\n",
        "- `family_status_id` — идентификатор семейного положения\n",
        "- `gender` — пол клиента\n",
        "- `income_type` — тип занятости\n",
        "- `debt` — имел ли задолженность по возврату кредитов\n",
        "- `total_income` — ежемесячный доход\n",
        "- `purpose` — цель получения кредита"
      ]
    },
    {
      "cell_type": "markdown",
      "id": "36e5c02b",
      "metadata": {
        "deletable": false,
        "editable": false,
        "id": "36e5c02b"
      },
      "source": [
        "Вывод основной информации о датафрейме."
      ]
    },
    {
      "cell_type": "code",
      "execution_count": null,
      "id": "b088ea8c",
      "metadata": {
        "deletable": false,
        "id": "b088ea8c",
        "outputId": "15376089-8dad-46c9-b520-c05248d43158"
      },
      "outputs": [
        {
          "name": "stdout",
          "output_type": "stream",
          "text": [
            "<class 'pandas.core.frame.DataFrame'>\n",
            "RangeIndex: 21525 entries, 0 to 21524\n",
            "Data columns (total 12 columns):\n",
            " #   Column            Non-Null Count  Dtype  \n",
            "---  ------            --------------  -----  \n",
            " 0   children          21525 non-null  int64  \n",
            " 1   days_employed     19351 non-null  float64\n",
            " 2   dob_years         21525 non-null  int64  \n",
            " 3   education         21525 non-null  object \n",
            " 4   education_id      21525 non-null  int64  \n",
            " 5   family_status     21525 non-null  object \n",
            " 6   family_status_id  21525 non-null  int64  \n",
            " 7   gender            21525 non-null  object \n",
            " 8   income_type       21525 non-null  object \n",
            " 9   debt              21525 non-null  int64  \n",
            " 10  total_income      19351 non-null  float64\n",
            " 11  purpose           21525 non-null  object \n",
            "dtypes: float64(2), int64(5), object(5)\n",
            "memory usage: 2.0+ MB\n"
          ]
        }
      ],
      "source": [
        "data.info()"
      ]
    },
    {
      "cell_type": "markdown",
      "id": "e5221ad0",
      "metadata": {
        "deletable": false,
        "editable": false,
        "id": "e5221ad0"
      },
      "source": [
        "<a id='section_2'></a>\n",
        "## Предобработка данных"
      ]
    },
    {
      "cell_type": "markdown",
      "id": "cf64418f",
      "metadata": {
        "deletable": false,
        "editable": false,
        "id": "cf64418f"
      },
      "source": [
        "### Удаление пропусков"
      ]
    },
    {
      "cell_type": "markdown",
      "id": "d74d62e2",
      "metadata": {
        "deletable": false,
        "editable": false,
        "id": "d74d62e2"
      },
      "source": [
        "Вывод количества пропущенных значений для каждого столбца."
      ]
    },
    {
      "cell_type": "code",
      "execution_count": null,
      "id": "d8c7f14f",
      "metadata": {
        "deletable": false,
        "id": "d8c7f14f",
        "outputId": "81f4d817-781c-465c-ed15-91ce4446810d"
      },
      "outputs": [
        {
          "data": {
            "text/plain": [
              "children               0\n",
              "days_employed       2174\n",
              "dob_years              0\n",
              "education              0\n",
              "education_id           0\n",
              "family_status          0\n",
              "family_status_id       0\n",
              "gender                 0\n",
              "income_type            0\n",
              "debt                   0\n",
              "total_income        2174\n",
              "purpose                0\n",
              "dtype: int64"
            ]
          },
          "execution_count": 4,
          "metadata": {},
          "output_type": "execute_result"
        }
      ],
      "source": [
        "data.isna().sum()"
      ]
    },
    {
      "cell_type": "markdown",
      "id": "6c8d35f4",
      "metadata": {
        "deletable": false,
        "editable": false,
        "id": "6c8d35f4"
      },
      "source": [
        "В двух столбцах есть пропущенные значения.\n",
        "- `days_employed` Пропуски в этом столбце будут обработаны на следующем этапе.\n",
        "- `total_income` — хранит данные о доходах. На сумму дохода сильнее всего влияет тип занятости, поэтому заполнить _пропуски_ в этом столбце нужно медианным значением по каждому типу из столбца `income_type`.\n",
        "\n",
        "_Например_, у человека с типом занятости `сотрудник` пропуск в столбце `total_income` должен быть заполнен медианным доходом среди всех записей с тем же типом."
      ]
    },
    {
      "cell_type": "code",
      "execution_count": null,
      "id": "01079d3b",
      "metadata": {
        "deletable": false,
        "id": "01079d3b"
      },
      "outputs": [],
      "source": [
        "for t in data['income_type'].unique():\n",
        "    data.loc[(data['income_type'] == t) & (data['total_income'].isna()), 'total_income'] = \\\n",
        "    data.loc[(data['income_type'] == t), 'total_income'].median()"
      ]
    },
    {
      "cell_type": "markdown",
      "id": "c234915d",
      "metadata": {
        "deletable": false,
        "editable": false,
        "id": "c234915d"
      },
      "source": [
        "### Обработка аномальных значений"
      ]
    },
    {
      "cell_type": "markdown",
      "id": "8a5e8f10",
      "metadata": {
        "deletable": false,
        "editable": false,
        "id": "8a5e8f10"
      },
      "source": [
        "В данных могут встречаться _артефакты_ (аномалии) — значения, которые не отражают действительность и появились по какой-то ошибке. таким артефактом будет отрицательное количество дней трудового стажа в столбце `days_employed`. Для реальных данных это нормально. Обработаю значения в этом столбце: заменив все отрицательные значения положительными с помощью метода `abs()`."
      ]
    },
    {
      "cell_type": "code",
      "execution_count": null,
      "id": "605780cc",
      "metadata": {
        "deletable": false,
        "id": "605780cc"
      },
      "outputs": [],
      "source": [
        "data['days_employed'] = data['days_employed'].abs()"
      ]
    },
    {
      "cell_type": "markdown",
      "id": "45d1197c",
      "metadata": {
        "deletable": false,
        "editable": false,
        "id": "45d1197c"
      },
      "source": [
        "Для каждого типа занятости выведу медианное значение трудового стажа `days_employed` в днях."
      ]
    },
    {
      "cell_type": "code",
      "execution_count": null,
      "id": "9fe19d11",
      "metadata": {
        "deletable": false,
        "id": "9fe19d11",
        "outputId": "801ef80e-522b-4668-f34e-565af7432bcf"
      },
      "outputs": [
        {
          "data": {
            "text/plain": [
              "income_type\n",
              "безработный        366413.652744\n",
              "в декрете            3296.759962\n",
              "госслужащий          2689.368353\n",
              "компаньон            1547.382223\n",
              "пенсионер          365213.306266\n",
              "предприниматель       520.848083\n",
              "сотрудник            1574.202821\n",
              "студент               578.751554\n",
              "Name: days_employed, dtype: float64"
            ]
          },
          "execution_count": 8,
          "metadata": {},
          "output_type": "execute_result"
        }
      ],
      "source": [
        "data.groupby('income_type')['days_employed'].agg('median')"
      ]
    },
    {
      "cell_type": "markdown",
      "id": "8e3d8428",
      "metadata": {
        "deletable": false,
        "editable": false,
        "id": "8e3d8428"
      },
      "source": [
        "У двух типов (_безработные_ и _пенсионеры_) получатся аномально большие значения. Исправить такие значения сложно, поэтому оставлю их в исходном виде."
      ]
    },
    {
      "cell_type": "markdown",
      "id": "be71f9c0",
      "metadata": {
        "deletable": false,
        "editable": false,
        "id": "be71f9c0"
      },
      "source": [
        "Вывод переченя уникальных значений столбца `children`."
      ]
    },
    {
      "cell_type": "code",
      "execution_count": null,
      "id": "7f1d93b9",
      "metadata": {
        "deletable": false,
        "id": "7f1d93b9",
        "outputId": "6975b15c-7f95-4697-d16d-a0c79b657b03"
      },
      "outputs": [
        {
          "data": {
            "text/plain": [
              "array([ 1,  0,  3,  2, -1,  4, 20,  5], dtype=int64)"
            ]
          },
          "execution_count": 9,
          "metadata": {},
          "output_type": "execute_result"
        }
      ],
      "source": [
        "data['children'].unique()"
      ]
    },
    {
      "cell_type": "markdown",
      "id": "6271fba4",
      "metadata": {
        "deletable": false,
        "editable": false,
        "id": "6271fba4"
      },
      "source": [
        "В столбце `children` есть два аномальных значения. Удалю строки, в которых встречаются такие аномальные значения."
      ]
    },
    {
      "cell_type": "code",
      "execution_count": null,
      "id": "285c8518",
      "metadata": {
        "deletable": false,
        "id": "285c8518"
      },
      "outputs": [],
      "source": [
        "data = data[(data['children'] != -1) & (data['children'] != 20)]"
      ]
    },
    {
      "cell_type": "markdown",
      "id": "07531994",
      "metadata": {
        "deletable": false,
        "editable": false,
        "id": "07531994"
      },
      "source": [
        "Контроль. Ещё раз выведу перечень уникальных значений столбца `children`, чтобы убедиться, что артефакты удалены."
      ]
    },
    {
      "cell_type": "code",
      "execution_count": null,
      "id": "05a70497",
      "metadata": {
        "deletable": false,
        "id": "05a70497",
        "outputId": "b2097101-d49d-44d9-901b-32a65c9463d1"
      },
      "outputs": [
        {
          "data": {
            "text/plain": [
              "array([1, 0, 3, 2, 4, 5], dtype=int64)"
            ]
          },
          "execution_count": 11,
          "metadata": {},
          "output_type": "execute_result"
        }
      ],
      "source": [
        "data['children'].unique()"
      ]
    },
    {
      "cell_type": "markdown",
      "id": "35c7271d",
      "metadata": {
        "deletable": false,
        "editable": false,
        "id": "35c7271d"
      },
      "source": [
        "### Удаление пропусков (продолжение)"
      ]
    },
    {
      "cell_type": "markdown",
      "id": "b9e824b3",
      "metadata": {
        "deletable": false,
        "editable": false,
        "id": "b9e824b3"
      },
      "source": [
        "Заполню пропуски в столбце `days_employed` медианными значениями по каждого типа занятости `income_type`."
      ]
    },
    {
      "cell_type": "code",
      "execution_count": null,
      "id": "3ecc03a7",
      "metadata": {
        "deletable": false,
        "id": "3ecc03a7"
      },
      "outputs": [],
      "source": [
        "for t in data['income_type'].unique():\n",
        "    data.loc[(data['income_type'] == t) & (data['days_employed'].isna()), 'days_employed'] = \\\n",
        "    data.loc[(data['income_type'] == t), 'days_employed'].median()"
      ]
    },
    {
      "cell_type": "markdown",
      "id": "21f7a720",
      "metadata": {
        "deletable": false,
        "editable": false,
        "id": "21f7a720"
      },
      "source": [
        "Проконтролирую, что все пропуски заполнены. Проверю себя и ещё раз выведите количество пропущенных значений для каждого столбца."
      ]
    },
    {
      "cell_type": "code",
      "execution_count": null,
      "id": "cbe397ea",
      "metadata": {
        "deletable": false,
        "id": "cbe397ea",
        "outputId": "8da1e4e1-358e-4e87-98c9-f261bce0a7b2"
      },
      "outputs": [
        {
          "data": {
            "text/plain": [
              "children            0\n",
              "days_employed       0\n",
              "dob_years           0\n",
              "education           0\n",
              "education_id        0\n",
              "family_status       0\n",
              "family_status_id    0\n",
              "gender              0\n",
              "income_type         0\n",
              "debt                0\n",
              "total_income        0\n",
              "purpose             0\n",
              "dtype: int64"
            ]
          },
          "execution_count": 13,
          "metadata": {},
          "output_type": "execute_result"
        }
      ],
      "source": [
        "data.isna().sum()"
      ]
    },
    {
      "cell_type": "markdown",
      "id": "24bdf51c",
      "metadata": {
        "deletable": false,
        "editable": false,
        "id": "24bdf51c"
      },
      "source": [
        "### Изменение типов данных"
      ]
    },
    {
      "cell_type": "markdown",
      "id": "27d595a5",
      "metadata": {
        "deletable": false,
        "editable": false,
        "id": "27d595a5"
      },
      "source": [
        "Замена вещественный тип данных в столбце `total_income` на целочисленный с помощью метода `astype()`."
      ]
    },
    {
      "cell_type": "code",
      "execution_count": null,
      "id": "364052ef",
      "metadata": {
        "deletable": false,
        "id": "364052ef"
      },
      "outputs": [],
      "source": [
        "data['total_income'] = data['total_income'].astype(int)"
      ]
    },
    {
      "cell_type": "markdown",
      "id": "fb843eb4",
      "metadata": {
        "deletable": false,
        "editable": false,
        "id": "fb843eb4"
      },
      "source": [
        "### Обработка дубликатов"
      ]
    },
    {
      "cell_type": "markdown",
      "id": "9827530c",
      "metadata": {
        "deletable": false,
        "editable": false,
        "id": "9827530c"
      },
      "source": [
        "Обработака неявных дубликатов в столбце `education`. В этом столбце есть одни и те же значения, но записанные по-разному: с использованием заглавных и строчных букв. Приведу их к нижнему регистру."
      ]
    },
    {
      "cell_type": "code",
      "execution_count": null,
      "id": "50f5380d",
      "metadata": {
        "deletable": false,
        "id": "50f5380d"
      },
      "outputs": [],
      "source": [
        "data['education'] = data['education'].str.lower()"
      ]
    },
    {
      "cell_type": "markdown",
      "id": "fa8fdf37",
      "metadata": {
        "deletable": false,
        "editable": false,
        "id": "fa8fdf37"
      },
      "source": [
        "Вывод на экран количество строк-дубликатов в данных. Если таковыприсутствуют - удалю их."
      ]
    },
    {
      "cell_type": "code",
      "execution_count": null,
      "id": "aea9b1fe",
      "metadata": {
        "deletable": false,
        "id": "aea9b1fe",
        "outputId": "9684deba-1934-42d1-99e1-cda61740f822"
      },
      "outputs": [
        {
          "data": {
            "text/plain": [
              "71"
            ]
          },
          "execution_count": 16,
          "metadata": {},
          "output_type": "execute_result"
        }
      ],
      "source": [
        "data.duplicated().sum()"
      ]
    },
    {
      "cell_type": "code",
      "execution_count": null,
      "id": "88d69c55",
      "metadata": {
        "deletable": false,
        "id": "88d69c55"
      },
      "outputs": [],
      "source": [
        "data = data.drop_duplicates()"
      ]
    },
    {
      "cell_type": "markdown",
      "id": "75e29325",
      "metadata": {
        "deletable": false,
        "editable": false,
        "id": "75e29325"
      },
      "source": [
        "### Категоризация данных"
      ]
    },
    {
      "cell_type": "markdown",
      "id": "b2f5dec5",
      "metadata": {
        "deletable": false,
        "editable": false,
        "id": "b2f5dec5"
      },
      "source": [
        "На основании диапазонов, указанных ниже, создам в датафрейме `data` столбец `total_income_category` с категориями:\n",
        "\n",
        "- 0–30000 — `'E'`;\n",
        "- 30001–50000 — `'D'`;\n",
        "- 50001–200000 — `'C'`;\n",
        "- 200001–1000000 — `'B'`;\n",
        "- 1000001 и выше — `'A'`.\n",
        "\n",
        "_Например_, кредитополучателю с доходом 25000 нужно назначить категорию `'E'`, а клиенту, получающему 235000, — `'B'`. Использую собственную функцию `categorize_income()` и метод `apply()`."
      ]
    },
    {
      "cell_type": "code",
      "execution_count": null,
      "id": "48795ac9",
      "metadata": {
        "deletable": false,
        "id": "48795ac9"
      },
      "outputs": [],
      "source": [
        "def categorize_income(income):\n",
        "    try:\n",
        "        if 0 <= income <= 30000:\n",
        "            return 'E'\n",
        "        elif 30001 <= income <= 50000:\n",
        "            return 'D'\n",
        "        elif 50001 <= income <= 200000:\n",
        "            return 'C'\n",
        "        elif 200001 <= income <= 1000000:\n",
        "            return 'B'\n",
        "        elif income >= 1000001:\n",
        "            return 'A'\n",
        "    except:\n",
        "        pass"
      ]
    },
    {
      "cell_type": "code",
      "execution_count": null,
      "id": "1a9d2f1a",
      "metadata": {
        "deletable": false,
        "id": "1a9d2f1a"
      },
      "outputs": [],
      "source": [
        "data['total_income_category'] = data['total_income'].apply(categorize_income)"
      ]
    },
    {
      "cell_type": "markdown",
      "id": "3e693994",
      "metadata": {
        "deletable": false,
        "editable": false,
        "id": "3e693994"
      },
      "source": [
        "Вывод на экран перечень уникальных целей взятия кредита из столбца `purpose`."
      ]
    },
    {
      "cell_type": "code",
      "execution_count": null,
      "id": "7ca27e90",
      "metadata": {
        "deletable": false,
        "id": "7ca27e90",
        "outputId": "673c12d9-7d7e-4ae0-9812-c622c89dd244"
      },
      "outputs": [
        {
          "data": {
            "text/plain": [
              "array(['покупка жилья', 'приобретение автомобиля',\n",
              "       'дополнительное образование', 'сыграть свадьбу',\n",
              "       'операции с жильем', 'образование', 'на проведение свадьбы',\n",
              "       'покупка жилья для семьи', 'покупка недвижимости',\n",
              "       'покупка коммерческой недвижимости', 'покупка жилой недвижимости',\n",
              "       'строительство собственной недвижимости', 'недвижимость',\n",
              "       'строительство недвижимости', 'на покупку подержанного автомобиля',\n",
              "       'на покупку своего автомобиля',\n",
              "       'операции с коммерческой недвижимостью',\n",
              "       'строительство жилой недвижимости', 'жилье',\n",
              "       'операции со своей недвижимостью', 'автомобили',\n",
              "       'заняться образованием', 'сделка с подержанным автомобилем',\n",
              "       'получение образования', 'автомобиль', 'свадьба',\n",
              "       'получение дополнительного образования', 'покупка своего жилья',\n",
              "       'операции с недвижимостью', 'получение высшего образования',\n",
              "       'свой автомобиль', 'сделка с автомобилем',\n",
              "       'профильное образование', 'высшее образование',\n",
              "       'покупка жилья для сдачи', 'на покупку автомобиля', 'ремонт жилью',\n",
              "       'заняться высшим образованием'], dtype=object)"
            ]
          },
          "execution_count": 20,
          "metadata": {},
          "output_type": "execute_result"
        }
      ],
      "source": [
        "data['purpose'].unique()"
      ]
    },
    {
      "cell_type": "markdown",
      "id": "901c69e5",
      "metadata": {
        "deletable": false,
        "editable": false,
        "id": "901c69e5"
      },
      "source": [
        "Создам функцию, которая на основании данных из столбца `purpose` сформирует новый столбец `purpose_category`, в который войдут следующие категории:**\n",
        "\n",
        "- `'операции с автомобилем'`,\n",
        "- `'операции с недвижимостью'`,\n",
        "- `'проведение свадьбы'`,\n",
        "- `'получение образования'`.\n",
        "\n",
        "_Например_, если в столбце `purpose` находится подстрока `'на покупку автомобиля'`, то в столбце `purpose_category` должна появиться строка `'операции с автомобилем'`."
      ]
    },
    {
      "cell_type": "code",
      "execution_count": null,
      "id": "c2458cb6",
      "metadata": {
        "deletable": false,
        "id": "c2458cb6"
      },
      "outputs": [],
      "source": [
        "def categorize_purpose(row):\n",
        "    try:\n",
        "        if 'автом' in row:\n",
        "            return 'операции с автомобилем'\n",
        "        elif 'жил' in row or 'недвиж' in row:\n",
        "            return 'операции с недвижимостью'\n",
        "        elif 'свад' in row:\n",
        "            return 'проведение свадьбы'\n",
        "        elif 'образов' in row:\n",
        "            return 'получение образования'\n",
        "    except:\n",
        "        return 'нет категории'"
      ]
    },
    {
      "cell_type": "code",
      "execution_count": null,
      "id": "49945376",
      "metadata": {
        "deletable": false,
        "id": "49945376",
        "outputId": "07d0ff87-0296-4e5c-93ba-712037d484f7"
      },
      "outputs": [
        {
          "data": {
            "text/html": [
              "<div>\n",
              "<style scoped>\n",
              "    .dataframe tbody tr th:only-of-type {\n",
              "        vertical-align: middle;\n",
              "    }\n",
              "\n",
              "    .dataframe tbody tr th {\n",
              "        vertical-align: top;\n",
              "    }\n",
              "\n",
              "    .dataframe thead th {\n",
              "        text-align: right;\n",
              "    }\n",
              "</style>\n",
              "<table border=\"1\" class=\"dataframe\">\n",
              "  <thead>\n",
              "    <tr style=\"text-align: right;\">\n",
              "      <th></th>\n",
              "      <th>children</th>\n",
              "      <th>days_employed</th>\n",
              "      <th>dob_years</th>\n",
              "      <th>education</th>\n",
              "      <th>education_id</th>\n",
              "      <th>family_status</th>\n",
              "      <th>family_status_id</th>\n",
              "      <th>gender</th>\n",
              "      <th>income_type</th>\n",
              "      <th>debt</th>\n",
              "      <th>total_income</th>\n",
              "      <th>purpose</th>\n",
              "      <th>total_income_category</th>\n",
              "      <th>purpose_category</th>\n",
              "    </tr>\n",
              "  </thead>\n",
              "  <tbody>\n",
              "    <tr>\n",
              "      <th>0</th>\n",
              "      <td>1</td>\n",
              "      <td>8437.673028</td>\n",
              "      <td>42</td>\n",
              "      <td>высшее</td>\n",
              "      <td>0</td>\n",
              "      <td>женат / замужем</td>\n",
              "      <td>0</td>\n",
              "      <td>F</td>\n",
              "      <td>сотрудник</td>\n",
              "      <td>0</td>\n",
              "      <td>253875</td>\n",
              "      <td>покупка жилья</td>\n",
              "      <td>B</td>\n",
              "      <td>операции с недвижимостью</td>\n",
              "    </tr>\n",
              "    <tr>\n",
              "      <th>1</th>\n",
              "      <td>1</td>\n",
              "      <td>4024.803754</td>\n",
              "      <td>36</td>\n",
              "      <td>среднее</td>\n",
              "      <td>1</td>\n",
              "      <td>женат / замужем</td>\n",
              "      <td>0</td>\n",
              "      <td>F</td>\n",
              "      <td>сотрудник</td>\n",
              "      <td>0</td>\n",
              "      <td>112080</td>\n",
              "      <td>приобретение автомобиля</td>\n",
              "      <td>C</td>\n",
              "      <td>операции с автомобилем</td>\n",
              "    </tr>\n",
              "    <tr>\n",
              "      <th>2</th>\n",
              "      <td>0</td>\n",
              "      <td>5623.422610</td>\n",
              "      <td>33</td>\n",
              "      <td>среднее</td>\n",
              "      <td>1</td>\n",
              "      <td>женат / замужем</td>\n",
              "      <td>0</td>\n",
              "      <td>M</td>\n",
              "      <td>сотрудник</td>\n",
              "      <td>0</td>\n",
              "      <td>145885</td>\n",
              "      <td>покупка жилья</td>\n",
              "      <td>C</td>\n",
              "      <td>операции с недвижимостью</td>\n",
              "    </tr>\n",
              "    <tr>\n",
              "      <th>3</th>\n",
              "      <td>3</td>\n",
              "      <td>4124.747207</td>\n",
              "      <td>32</td>\n",
              "      <td>среднее</td>\n",
              "      <td>1</td>\n",
              "      <td>женат / замужем</td>\n",
              "      <td>0</td>\n",
              "      <td>M</td>\n",
              "      <td>сотрудник</td>\n",
              "      <td>0</td>\n",
              "      <td>267628</td>\n",
              "      <td>дополнительное образование</td>\n",
              "      <td>B</td>\n",
              "      <td>получение образования</td>\n",
              "    </tr>\n",
              "    <tr>\n",
              "      <th>4</th>\n",
              "      <td>0</td>\n",
              "      <td>340266.072047</td>\n",
              "      <td>53</td>\n",
              "      <td>среднее</td>\n",
              "      <td>1</td>\n",
              "      <td>гражданский брак</td>\n",
              "      <td>1</td>\n",
              "      <td>F</td>\n",
              "      <td>пенсионер</td>\n",
              "      <td>0</td>\n",
              "      <td>158616</td>\n",
              "      <td>сыграть свадьбу</td>\n",
              "      <td>C</td>\n",
              "      <td>проведение свадьбы</td>\n",
              "    </tr>\n",
              "    <tr>\n",
              "      <th>...</th>\n",
              "      <td>...</td>\n",
              "      <td>...</td>\n",
              "      <td>...</td>\n",
              "      <td>...</td>\n",
              "      <td>...</td>\n",
              "      <td>...</td>\n",
              "      <td>...</td>\n",
              "      <td>...</td>\n",
              "      <td>...</td>\n",
              "      <td>...</td>\n",
              "      <td>...</td>\n",
              "      <td>...</td>\n",
              "      <td>...</td>\n",
              "      <td>...</td>\n",
              "    </tr>\n",
              "    <tr>\n",
              "      <th>21520</th>\n",
              "      <td>1</td>\n",
              "      <td>4529.316663</td>\n",
              "      <td>43</td>\n",
              "      <td>среднее</td>\n",
              "      <td>1</td>\n",
              "      <td>гражданский брак</td>\n",
              "      <td>1</td>\n",
              "      <td>F</td>\n",
              "      <td>компаньон</td>\n",
              "      <td>0</td>\n",
              "      <td>224791</td>\n",
              "      <td>операции с жильем</td>\n",
              "      <td>B</td>\n",
              "      <td>операции с недвижимостью</td>\n",
              "    </tr>\n",
              "    <tr>\n",
              "      <th>21521</th>\n",
              "      <td>0</td>\n",
              "      <td>343937.404131</td>\n",
              "      <td>67</td>\n",
              "      <td>среднее</td>\n",
              "      <td>1</td>\n",
              "      <td>женат / замужем</td>\n",
              "      <td>0</td>\n",
              "      <td>F</td>\n",
              "      <td>пенсионер</td>\n",
              "      <td>0</td>\n",
              "      <td>155999</td>\n",
              "      <td>сделка с автомобилем</td>\n",
              "      <td>C</td>\n",
              "      <td>операции с автомобилем</td>\n",
              "    </tr>\n",
              "    <tr>\n",
              "      <th>21522</th>\n",
              "      <td>1</td>\n",
              "      <td>2113.346888</td>\n",
              "      <td>38</td>\n",
              "      <td>среднее</td>\n",
              "      <td>1</td>\n",
              "      <td>гражданский брак</td>\n",
              "      <td>1</td>\n",
              "      <td>M</td>\n",
              "      <td>сотрудник</td>\n",
              "      <td>1</td>\n",
              "      <td>89672</td>\n",
              "      <td>недвижимость</td>\n",
              "      <td>C</td>\n",
              "      <td>операции с недвижимостью</td>\n",
              "    </tr>\n",
              "    <tr>\n",
              "      <th>21523</th>\n",
              "      <td>3</td>\n",
              "      <td>3112.481705</td>\n",
              "      <td>38</td>\n",
              "      <td>среднее</td>\n",
              "      <td>1</td>\n",
              "      <td>женат / замужем</td>\n",
              "      <td>0</td>\n",
              "      <td>M</td>\n",
              "      <td>сотрудник</td>\n",
              "      <td>1</td>\n",
              "      <td>244093</td>\n",
              "      <td>на покупку своего автомобиля</td>\n",
              "      <td>B</td>\n",
              "      <td>операции с автомобилем</td>\n",
              "    </tr>\n",
              "    <tr>\n",
              "      <th>21524</th>\n",
              "      <td>2</td>\n",
              "      <td>1984.507589</td>\n",
              "      <td>40</td>\n",
              "      <td>среднее</td>\n",
              "      <td>1</td>\n",
              "      <td>женат / замужем</td>\n",
              "      <td>0</td>\n",
              "      <td>F</td>\n",
              "      <td>сотрудник</td>\n",
              "      <td>0</td>\n",
              "      <td>82047</td>\n",
              "      <td>на покупку автомобиля</td>\n",
              "      <td>C</td>\n",
              "      <td>операции с автомобилем</td>\n",
              "    </tr>\n",
              "  </tbody>\n",
              "</table>\n",
              "<p>21331 rows × 14 columns</p>\n",
              "</div>"
            ],
            "text/plain": [
              "       children  days_employed  dob_years education  education_id  \\\n",
              "0             1    8437.673028         42    высшее             0   \n",
              "1             1    4024.803754         36   среднее             1   \n",
              "2             0    5623.422610         33   среднее             1   \n",
              "3             3    4124.747207         32   среднее             1   \n",
              "4             0  340266.072047         53   среднее             1   \n",
              "...         ...            ...        ...       ...           ...   \n",
              "21520         1    4529.316663         43   среднее             1   \n",
              "21521         0  343937.404131         67   среднее             1   \n",
              "21522         1    2113.346888         38   среднее             1   \n",
              "21523         3    3112.481705         38   среднее             1   \n",
              "21524         2    1984.507589         40   среднее             1   \n",
              "\n",
              "          family_status  family_status_id gender income_type  debt  \\\n",
              "0       женат / замужем                 0      F   сотрудник     0   \n",
              "1       женат / замужем                 0      F   сотрудник     0   \n",
              "2       женат / замужем                 0      M   сотрудник     0   \n",
              "3       женат / замужем                 0      M   сотрудник     0   \n",
              "4      гражданский брак                 1      F   пенсионер     0   \n",
              "...                 ...               ...    ...         ...   ...   \n",
              "21520  гражданский брак                 1      F   компаньон     0   \n",
              "21521   женат / замужем                 0      F   пенсионер     0   \n",
              "21522  гражданский брак                 1      M   сотрудник     1   \n",
              "21523   женат / замужем                 0      M   сотрудник     1   \n",
              "21524   женат / замужем                 0      F   сотрудник     0   \n",
              "\n",
              "       total_income                       purpose total_income_category  \\\n",
              "0            253875                 покупка жилья                     B   \n",
              "1            112080       приобретение автомобиля                     C   \n",
              "2            145885                 покупка жилья                     C   \n",
              "3            267628    дополнительное образование                     B   \n",
              "4            158616               сыграть свадьбу                     C   \n",
              "...             ...                           ...                   ...   \n",
              "21520        224791             операции с жильем                     B   \n",
              "21521        155999          сделка с автомобилем                     C   \n",
              "21522         89672                  недвижимость                     C   \n",
              "21523        244093  на покупку своего автомобиля                     B   \n",
              "21524         82047         на покупку автомобиля                     C   \n",
              "\n",
              "               purpose_category  \n",
              "0      операции с недвижимостью  \n",
              "1        операции с автомобилем  \n",
              "2      операции с недвижимостью  \n",
              "3         получение образования  \n",
              "4            проведение свадьбы  \n",
              "...                         ...  \n",
              "21520  операции с недвижимостью  \n",
              "21521    операции с автомобилем  \n",
              "21522  операции с недвижимостью  \n",
              "21523    операции с автомобилем  \n",
              "21524    операции с автомобилем  \n",
              "\n",
              "[21331 rows x 14 columns]"
            ]
          },
          "metadata": {},
          "output_type": "display_data"
        }
      ],
      "source": [
        "data['purpose_category'] = data['purpose'].apply(categorize_purpose)\n",
        "display(data)"
      ]
    },
    {
      "cell_type": "markdown",
      "id": "89227243",
      "metadata": {
        "deletable": false,
        "editable": false,
        "id": "89227243"
      },
      "source": [
        "<a id='section_3'></a>\n",
        "## Исследование данных"
      ]
    },
    {
      "cell_type": "markdown",
      "id": "60a01f44",
      "metadata": {
        "deletable": false,
        "editable": false,
        "id": "60a01f44"
      },
      "source": [
        "### Зависимость между количеством детей и возвратом кредита в срок."
      ]
    },
    {
      "cell_type": "markdown",
      "id": "5be280f5",
      "metadata": {
        "id": "5be280f5"
      },
      "source": [
        "**Задача:** сгруппировать заёмщиков по количеству детей, и подсчитать процентное соотношение кредитов выплаченных в срок и с опозданием. Исходные данные берутся из датафрейма `data`, прошедший предобработку (убраны пропуски, удалены дубликаты).\n",
        "\n",
        "**Результат:** сводная таблица `debt_from_children`, содержащая 5 столбцов:\n",
        "- `children` - количество детей у заёмщиков\n",
        "- `sum` - количество кредитов не оплаченных в срок\n",
        "- `count` - общее количетсов кредитов\n",
        "- `late` - доля кредитов выплаченная с опозданием\n",
        "- `on_time` - доля кредитов выплаченных во время\n",
        "\n",
        "Значения в столбцах `late` и `on_time` указаны в процентах (%)."
      ]
    },
    {
      "cell_type": "code",
      "execution_count": null,
      "id": "add30b58",
      "metadata": {
        "deletable": false,
        "id": "add30b58",
        "outputId": "9ec5b3b8-f3e5-40a7-c199-250a5223b3b2"
      },
      "outputs": [
        {
          "data": {
            "text/html": [
              "<div>\n",
              "<style scoped>\n",
              "    .dataframe tbody tr th:only-of-type {\n",
              "        vertical-align: middle;\n",
              "    }\n",
              "\n",
              "    .dataframe tbody tr th {\n",
              "        vertical-align: top;\n",
              "    }\n",
              "\n",
              "    .dataframe thead tr th {\n",
              "        text-align: left;\n",
              "    }\n",
              "\n",
              "    .dataframe thead tr:last-of-type th {\n",
              "        text-align: right;\n",
              "    }\n",
              "</style>\n",
              "<table border=\"1\" class=\"dataframe\">\n",
              "  <thead>\n",
              "    <tr>\n",
              "      <th></th>\n",
              "      <th colspan=\"2\" halign=\"left\">debt</th>\n",
              "      <th>late</th>\n",
              "      <th>on_time</th>\n",
              "    </tr>\n",
              "    <tr>\n",
              "      <th></th>\n",
              "      <th>sum</th>\n",
              "      <th>count</th>\n",
              "      <th></th>\n",
              "      <th></th>\n",
              "    </tr>\n",
              "    <tr>\n",
              "      <th>children</th>\n",
              "      <th></th>\n",
              "      <th></th>\n",
              "      <th></th>\n",
              "      <th></th>\n",
              "    </tr>\n",
              "  </thead>\n",
              "  <tbody>\n",
              "    <tr>\n",
              "      <th>0</th>\n",
              "      <td>1063</td>\n",
              "      <td>14091</td>\n",
              "      <td>7.543822</td>\n",
              "      <td>92.456178</td>\n",
              "    </tr>\n",
              "    <tr>\n",
              "      <th>1</th>\n",
              "      <td>444</td>\n",
              "      <td>4808</td>\n",
              "      <td>9.234609</td>\n",
              "      <td>90.765391</td>\n",
              "    </tr>\n",
              "    <tr>\n",
              "      <th>2</th>\n",
              "      <td>194</td>\n",
              "      <td>2052</td>\n",
              "      <td>9.454191</td>\n",
              "      <td>90.545809</td>\n",
              "    </tr>\n",
              "    <tr>\n",
              "      <th>3</th>\n",
              "      <td>27</td>\n",
              "      <td>330</td>\n",
              "      <td>8.181818</td>\n",
              "      <td>91.818182</td>\n",
              "    </tr>\n",
              "    <tr>\n",
              "      <th>4</th>\n",
              "      <td>4</td>\n",
              "      <td>41</td>\n",
              "      <td>9.756098</td>\n",
              "      <td>90.243902</td>\n",
              "    </tr>\n",
              "    <tr>\n",
              "      <th>5</th>\n",
              "      <td>0</td>\n",
              "      <td>9</td>\n",
              "      <td>0.000000</td>\n",
              "      <td>100.000000</td>\n",
              "    </tr>\n",
              "  </tbody>\n",
              "</table>\n",
              "</div>"
            ],
            "text/plain": [
              "          debt             late     on_time\n",
              "           sum  count                      \n",
              "children                                   \n",
              "0         1063  14091  7.543822   92.456178\n",
              "1          444   4808  9.234609   90.765391\n",
              "2          194   2052  9.454191   90.545809\n",
              "3           27    330  8.181818   91.818182\n",
              "4            4     41  9.756098   90.243902\n",
              "5            0      9  0.000000  100.000000"
            ]
          },
          "metadata": {},
          "output_type": "display_data"
        }
      ],
      "source": [
        "debt_from_children = data.groupby('children').agg({'debt':['sum','count']})\n",
        "debt_from_children['late'] = debt_from_children['debt']['sum'] / debt_from_children['debt']['count'] * 100\n",
        "debt_from_children['on_time'] = 100 - debt_from_children['late']\n",
        "\n",
        "display(debt_from_children)"
      ]
    },
    {
      "cell_type": "markdown",
      "id": "483d8e46",
      "metadata": {
        "deletable": false,
        "id": "483d8e46"
      },
      "source": [
        "**Вывод:** Зависимость есть!\n",
        "\n",
        "Вероятность возврата кредита в срок, в первую очередь зависит от **наличия** детей, а во вторую от конкретного **количества**.\n",
        "\n",
        "Меньше всего просроченных кредитов среди заёмщиков без детей.\n",
        "\n",
        "У заёмщиков с детьми, вероятность имеет почти одинаковые значения. Среди них выделяется группа с 3мя детьми, у которой вероятность срыва кредитного срока - меньше остальных. Возможно причиной этому различные льготы, которые полагаются многодетным семьям. Этот статут семья получает как раз при наличии минимум 3х детей.\n",
        "\n",
        "Группа заёмщиков, имеющая 5 детей - малочисленна (9 человек). Этой выборки недостаточно, чтобы сделать точный вывод."
      ]
    },
    {
      "cell_type": "markdown",
      "id": "237e5636",
      "metadata": {
        "deletable": false,
        "editable": false,
        "id": "237e5636"
      },
      "source": [
        "### Зависимость между семейным положением и возвратом кредита в срок."
      ]
    },
    {
      "cell_type": "markdown",
      "id": "4f7800c8",
      "metadata": {
        "id": "4f7800c8"
      },
      "source": [
        "**Задача:** сгруппировать заёмщиков по семейному положению, и подсчитать процентное соотношение кредитов выплаченных в срок и с опозданием.\n",
        "\n",
        "**Результат:** сводная таблица `debt_from_family_status`, содержащая 3 столбца:\n",
        "- `family_status` - семейное положение\n",
        "- `late` - доля кредитов выплаченная с опазданием (значения указаны в процентах)\n",
        "- `on_time` - доля кредитов выплаченных во время (значения указаны в процентах)"
      ]
    },
    {
      "cell_type": "code",
      "execution_count": null,
      "id": "8e9f36c0",
      "metadata": {
        "deletable": false,
        "id": "8e9f36c0",
        "outputId": "2a8d8d80-b8b0-4c9e-bc6f-ec25704c33d2"
      },
      "outputs": [
        {
          "data": {
            "text/html": [
              "<div>\n",
              "<style scoped>\n",
              "    .dataframe tbody tr th:only-of-type {\n",
              "        vertical-align: middle;\n",
              "    }\n",
              "\n",
              "    .dataframe tbody tr th {\n",
              "        vertical-align: top;\n",
              "    }\n",
              "\n",
              "    .dataframe thead tr th {\n",
              "        text-align: left;\n",
              "    }\n",
              "\n",
              "    .dataframe thead tr:last-of-type th {\n",
              "        text-align: right;\n",
              "    }\n",
              "</style>\n",
              "<table border=\"1\" class=\"dataframe\">\n",
              "  <thead>\n",
              "    <tr>\n",
              "      <th></th>\n",
              "      <th>late</th>\n",
              "      <th>on_time</th>\n",
              "    </tr>\n",
              "    <tr>\n",
              "      <th></th>\n",
              "      <th></th>\n",
              "      <th></th>\n",
              "    </tr>\n",
              "    <tr>\n",
              "      <th>family_status</th>\n",
              "      <th></th>\n",
              "      <th></th>\n",
              "    </tr>\n",
              "  </thead>\n",
              "  <tbody>\n",
              "    <tr>\n",
              "      <th>вдовец / вдова</th>\n",
              "      <td>6.624606</td>\n",
              "      <td>93.375394</td>\n",
              "    </tr>\n",
              "    <tr>\n",
              "      <th>в разводе</th>\n",
              "      <td>7.064760</td>\n",
              "      <td>92.935240</td>\n",
              "    </tr>\n",
              "    <tr>\n",
              "      <th>женат / замужем</th>\n",
              "      <td>7.560558</td>\n",
              "      <td>92.439442</td>\n",
              "    </tr>\n",
              "    <tr>\n",
              "      <th>гражданский брак</th>\n",
              "      <td>9.313014</td>\n",
              "      <td>90.686986</td>\n",
              "    </tr>\n",
              "    <tr>\n",
              "      <th>Не женат / не замужем</th>\n",
              "      <td>9.763948</td>\n",
              "      <td>90.236052</td>\n",
              "    </tr>\n",
              "  </tbody>\n",
              "</table>\n",
              "</div>"
            ],
            "text/plain": [
              "                           late    on_time\n",
              "                                          \n",
              "family_status                             \n",
              "вдовец / вдова         6.624606  93.375394\n",
              "в разводе              7.064760  92.935240\n",
              "женат / замужем        7.560558  92.439442\n",
              "гражданский брак       9.313014  90.686986\n",
              "Не женат / не замужем  9.763948  90.236052"
            ]
          },
          "metadata": {},
          "output_type": "display_data"
        }
      ],
      "source": [
        "debt_from_family_status = data.groupby('family_status').agg({'debt':['sum','count']})\n",
        "debt_from_family_status['late'] = debt_from_family_status['debt']['sum'] / debt_from_family_status['debt']['count'] * 100\n",
        "debt_from_family_status['on_time'] = 100 - debt_from_family_status['late']\n",
        "debt_from_family_status = debt_from_family_status.sort_values(by='late')\n",
        "\n",
        "display(debt_from_family_status[['late', 'on_time']])"
      ]
    },
    {
      "cell_type": "markdown",
      "id": "f4c83b8f",
      "metadata": {
        "deletable": false,
        "id": "f4c83b8f"
      },
      "source": [
        "**Вывод:** зависимость есть!\n",
        "\n",
        "Для каждой группы она индивидуальна. Наименьший риск представляет заёмщики  из группы *вдовец/вдова*. Средний показатель у людей, состоящих в *зарегистированном браке* или *в разводе*. Наибольшая вероятность нарушения срока кредитования соответствует *не женатым / не замужним* или *находящимся в гражданском браке*."
      ]
    },
    {
      "cell_type": "markdown",
      "id": "b74d533b",
      "metadata": {
        "deletable": false,
        "editable": false,
        "id": "b74d533b"
      },
      "source": [
        "### Зависимость между уровнем дохода и возвратом кредита в срок."
      ]
    },
    {
      "cell_type": "markdown",
      "id": "f784f587",
      "metadata": {
        "id": "f784f587"
      },
      "source": [
        "**Задача:** сгруппировать строки исходной таблицы по категориям дохода, и подсчитать процентное соотношение кредитов выплаченных в срок и с опозданием.\n",
        "\n",
        "**Результат:** сводная таблица `debt_from_income`, содержащая 3 столбца:\n",
        "- `total_income_catigory` - категории общего дохода:\n",
        "    - 0–30000 — `'E'`;\n",
        "    - 30001–50000 — `'D'`;\n",
        "    - 50001–200000 — `'C'`;\n",
        "    - 200001–1000000 — `'B'`;\n",
        "    - 1000001 и выше — `'A'`.\n",
        "- `count` - численность соответствующей группы\n",
        "- `late` - доля кредитов выплаченная с опозданием (значения указаны в процентах)\n",
        "- `on_time` - доля кредитов выплаченных во время (значения указаны в процентах)\n",
        "    \n",
        "И столбчатая диаграмма, наглядно показывающая величину риска для каждой категории дохода, в отдельности."
      ]
    },
    {
      "cell_type": "code",
      "execution_count": null,
      "id": "7ff5b19e",
      "metadata": {
        "deletable": false,
        "id": "7ff5b19e",
        "outputId": "34825444-d5c6-4949-cb5c-d7c407538bbe"
      },
      "outputs": [
        {
          "data": {
            "text/html": [
              "<div>\n",
              "<style scoped>\n",
              "    .dataframe tbody tr th:only-of-type {\n",
              "        vertical-align: middle;\n",
              "    }\n",
              "\n",
              "    .dataframe tbody tr th {\n",
              "        vertical-align: top;\n",
              "    }\n",
              "\n",
              "    .dataframe thead th {\n",
              "        text-align: right;\n",
              "    }\n",
              "</style>\n",
              "<table border=\"1\" class=\"dataframe\">\n",
              "  <thead>\n",
              "    <tr style=\"text-align: right;\">\n",
              "      <th></th>\n",
              "      <th>Ко-во должников</th>\n",
              "      <th>Всего кредитополучателей</th>\n",
              "      <th>Доля должников</th>\n",
              "      <th>Доля выплативших вовремя</th>\n",
              "    </tr>\n",
              "    <tr>\n",
              "      <th>total_income_category</th>\n",
              "      <th></th>\n",
              "      <th></th>\n",
              "      <th></th>\n",
              "      <th></th>\n",
              "    </tr>\n",
              "  </thead>\n",
              "  <tbody>\n",
              "    <tr>\n",
              "      <th>A</th>\n",
              "      <td>2</td>\n",
              "      <td>25</td>\n",
              "      <td>8.000000</td>\n",
              "      <td>92.000000</td>\n",
              "    </tr>\n",
              "    <tr>\n",
              "      <th>B</th>\n",
              "      <td>354</td>\n",
              "      <td>5014</td>\n",
              "      <td>7.060231</td>\n",
              "      <td>92.939769</td>\n",
              "    </tr>\n",
              "    <tr>\n",
              "      <th>C</th>\n",
              "      <td>1353</td>\n",
              "      <td>15921</td>\n",
              "      <td>8.498210</td>\n",
              "      <td>91.501790</td>\n",
              "    </tr>\n",
              "    <tr>\n",
              "      <th>D</th>\n",
              "      <td>21</td>\n",
              "      <td>349</td>\n",
              "      <td>6.017192</td>\n",
              "      <td>93.982808</td>\n",
              "    </tr>\n",
              "    <tr>\n",
              "      <th>E</th>\n",
              "      <td>2</td>\n",
              "      <td>22</td>\n",
              "      <td>9.090909</td>\n",
              "      <td>90.909091</td>\n",
              "    </tr>\n",
              "  </tbody>\n",
              "</table>\n",
              "</div>"
            ],
            "text/plain": [
              "                       Ко-во должников  Всего кредитополучателей  \\\n",
              "total_income_category                                              \n",
              "A                                    2                        25   \n",
              "B                                  354                      5014   \n",
              "C                                 1353                     15921   \n",
              "D                                   21                       349   \n",
              "E                                    2                        22   \n",
              "\n",
              "                       Доля должников  Доля выплативших вовремя  \n",
              "total_income_category                                            \n",
              "A                            8.000000                 92.000000  \n",
              "B                            7.060231                 92.939769  \n",
              "C                            8.498210                 91.501790  \n",
              "D                            6.017192                 93.982808  \n",
              "E                            9.090909                 90.909091  "
            ]
          },
          "metadata": {},
          "output_type": "display_data"
        },
        {
          "data": {
            "image/png": "[encoded data removed]",
            "text/plain": [
              "<Figure size 432x288 with 1 Axes>"
            ]
          },
          "metadata": {
            "needs_background": "light"
          },
          "output_type": "display_data"
        }
      ],
      "source": [
        "debt_from_income = data.groupby('total_income_category').agg({'debt':['sum','count']})\n",
        "debt_from_income['late'] = debt_from_income['debt']['sum'] / debt_from_income['debt']['count'] * 100\n",
        "debt_from_income['on_time'] = 100 - debt_from_income['late']\n",
        "\n",
        "sns.barplot(x=['A', 'B', 'C', 'D', 'E'], y=debt_from_income['late'], figsize=(10, 6))\n",
        "debt_from_income.columns = ['Ко-во должников', 'Всего кредитополучателей', 'Доля должников, %', 'Доля выплативших вовремя, %']\n",
        "display(debt_from_income) #UPD на отображение добавлен столбец 'count'"
      ]
    },
    {
      "cell_type": "markdown",
      "id": "fe3c4df9",
      "metadata": {
        "deletable": false,
        "id": "fe3c4df9"
      },
      "source": [
        "**Вывод:** зависимость есть, но она нелинейная, как можно было предполагать.\n",
        "\n",
        "В первую очередь, численность групп имеет слишком большую разницу, чтобы на их примере вывести общую зависимость. Группы людей с крайне низким(`A`) и крайне высоким(`E`) доходами - малочисленны, что не позволяет сделать достоверный вывод. Группа с доходом выше среднего(`D`) показывает минимальный риск просрочки кредита, но степень доверия к этому выводу мала из-за небольшой численности этой группы, в сравнении с другими. Наибольший риск соответствует группе со средним доходор(`С`), она же и наиболее многочисленная.\n",
        "\n",
        "В связи с вышесказанным, у меня есть предложения для повышения точности данных и достоверности выводов.\n",
        "- Разбить группу `С` на несколько или уменьшить диапазон доходов, соответствующий этой групе, и одновременно увеличить диапозон доходов малочисленных групп `D` и `E`.\n",
        "- Учитывать `типа дохода`, ведь при прочих равных, доход пенсионера стабильный и прогнозируемый, в отличие от наёмного работника."
      ]
    },
    {
      "cell_type": "markdown",
      "id": "4db208d5",
      "metadata": {
        "deletable": false,
        "editable": false,
        "id": "4db208d5"
      },
      "source": [
        "### Влияние разных цели кредита на его срок возврат."
      ]
    },
    {
      "cell_type": "markdown",
      "id": "51110b60",
      "metadata": {
        "id": "51110b60"
      },
      "source": [
        "**Задача:** сгруппировать строки исходной таблицы по классифицированным целям, и подсчитать процентное соотношение кредитов выплаченных в срок и с опозданием.\n",
        "\n",
        "**Результат:** сводная таблица `debt_from_purpose`, содержащая 3 столбца:\n",
        "- `late` - доля кредитов выплаченная с опозданием (значения указаны в процентах)\n",
        "- `on_time` - доля кредитов выплаченных во время (значения указаны в процентах)\n",
        "- `purpose_category` - категории целей кредитов."
      ]
    },
    {
      "cell_type": "code",
      "execution_count": null,
      "id": "1db04b4c",
      "metadata": {
        "deletable": false,
        "id": "1db04b4c",
        "outputId": "0ebafbb6-4d46-4247-ad7e-9464efb1809f"
      },
      "outputs": [
        {
          "data": {
            "text/html": [
              "<div>\n",
              "<style scoped>\n",
              "    .dataframe tbody tr th:only-of-type {\n",
              "        vertical-align: middle;\n",
              "    }\n",
              "\n",
              "    .dataframe tbody tr th {\n",
              "        vertical-align: top;\n",
              "    }\n",
              "\n",
              "    .dataframe thead tr th {\n",
              "        text-align: left;\n",
              "    }\n",
              "\n",
              "    .dataframe thead tr:last-of-type th {\n",
              "        text-align: right;\n",
              "    }\n",
              "</style>\n",
              "<table border=\"1\" class=\"dataframe\">\n",
              "  <thead>\n",
              "    <tr>\n",
              "      <th></th>\n",
              "      <th>late</th>\n",
              "      <th>on_time</th>\n",
              "    </tr>\n",
              "    <tr>\n",
              "      <th></th>\n",
              "      <th></th>\n",
              "      <th></th>\n",
              "    </tr>\n",
              "    <tr>\n",
              "      <th>purpose_category</th>\n",
              "      <th></th>\n",
              "      <th></th>\n",
              "    </tr>\n",
              "  </thead>\n",
              "  <tbody>\n",
              "    <tr>\n",
              "      <th>операции с недвижимостью</th>\n",
              "      <td>7.255139</td>\n",
              "      <td>92.744861</td>\n",
              "    </tr>\n",
              "    <tr>\n",
              "      <th>проведение свадьбы</th>\n",
              "      <td>7.911803</td>\n",
              "      <td>92.088197</td>\n",
              "    </tr>\n",
              "    <tr>\n",
              "      <th>получение образования</th>\n",
              "      <td>9.252758</td>\n",
              "      <td>90.747242</td>\n",
              "    </tr>\n",
              "    <tr>\n",
              "      <th>операции с автомобилем</th>\n",
              "      <td>9.347978</td>\n",
              "      <td>90.652022</td>\n",
              "    </tr>\n",
              "  </tbody>\n",
              "</table>\n",
              "</div>"
            ],
            "text/plain": [
              "                              late    on_time\n",
              "                                             \n",
              "purpose_category                             \n",
              "операции с недвижимостью  7.255139  92.744861\n",
              "проведение свадьбы        7.911803  92.088197\n",
              "получение образования     9.252758  90.747242\n",
              "операции с автомобилем    9.347978  90.652022"
            ]
          },
          "metadata": {},
          "output_type": "display_data"
        }
      ],
      "source": [
        "debt_from_purpose = data.groupby('purpose_category').agg({'debt':['sum','count']})\n",
        "debt_from_purpose['late'] = debt_from_purpose['debt']['sum'] / debt_from_purpose['debt']['count'] * 100\n",
        "debt_from_purpose['on_time'] = 100 - debt_from_purpose['late']\n",
        "debt_from_purpose = debt_from_purpose.sort_values(by='late')\n",
        "\n",
        "display(debt_from_purpose[['late', 'on_time']])"
      ]
    },
    {
      "cell_type": "markdown",
      "id": "cdedf4e5",
      "metadata": {
        "deletable": false,
        "id": "cdedf4e5"
      },
      "source": [
        "**Вывод:** зависимость есть!\n",
        "\n",
        "Чаще всего проблемы с своевременным возвратом ссуды происходят если его целью является `получение образования` или `операции с автомобилем`, в обоих случаях идентичная вероятность. Ниже риск для кредитов предназначеных для `проведения свадеб` и совершению `операций с недвижимостью`. У последнее варианта самая низкая вероятность просрочки кредита."
      ]
    },
    {
      "cell_type": "markdown",
      "id": "024f35e8",
      "metadata": {
        "deletable": false,
        "editable": false,
        "id": "024f35e8"
      },
      "source": [
        "### Возможные причины появления пропусков в исходных данных."
      ]
    },
    {
      "cell_type": "markdown",
      "id": "7ccc00fe",
      "metadata": {
        "deletable": false,
        "id": "7ccc00fe"
      },
      "source": [
        "*Ответ:* В процессе предобработки устранялись пропуски в 2х столбцах датафрейма, которые содержали сведенья о *размере дохода* и *трудовом стаже*.\n",
        "\n",
        "Для *1ого* значения имеет место быть стеснение указать размер своей зарплаты за определённый период. Среди граждан, обращающиеся за кредитом есть категория `безработный`, у которых, закономерно, может не быть дохода. Это так же может быть объяснением для пропусков в *трудовом стаже*.\n",
        "\n",
        "Как ещё один вариант: *отсутствие подтверждающих документов* (справки о доходах, выписки со счётов, трудовая книжка). При принятии решения, сотруднику банка необходимо знать достоверность данных, предоставленных клиентом.\n",
        "\n",
        "И в завершении, нельзя исключить фактор *случайной ошибки*, т.к. часть данных вносятся вручную человеком."
      ]
    },
    {
      "cell_type": "markdown",
      "id": "768063db",
      "metadata": {
        "deletable": false,
        "editable": false,
        "id": "768063db"
      },
      "source": [
        "### Пояснение, почему пропуски заполнены медианным значением — лучшее решение для количественных переменных."
      ]
    },
    {
      "cell_type": "markdown",
      "id": "badc6c04",
      "metadata": {
        "deletable": false,
        "id": "badc6c04"
      },
      "source": [
        "Величина з/п увеличивается **нелинейно**. Если её значения изобразить в зависимости от трудового стажа (к примеру), то она может иметь график *экспоненты*. Начало графика \"лежит\" вдоль минимальной з/п, а конец графика резко поднимается вверх, отражая высокую зарплату. При таком неравномерном распределении среднеарифметическое значение будет смещено сторону бОльших з/п, и не будет достоверно отображать действительность."
      ]
    },
    {
      "cell_type": "markdown",
      "id": "48e93fca",
      "metadata": {
        "deletable": false,
        "editable": false,
        "id": "48e93fca"
      },
      "source": [
        "<a id='section_4'></a>\n",
        "## Шаг 4: общий вывод."
      ]
    },
    {
      "cell_type": "markdown",
      "id": "bce47081",
      "metadata": {
        "deletable": false,
        "id": "bce47081"
      },
      "source": [
        "В ходе исследования получилось проверить предположения о наличии зависимости между параметрами заёмщика и вероятностью возврата кредита в срок, и оценить на сколько эти параметры влияют на вероятность. Кратко:\n",
        "- Дети: их отсутствие положительно сказывается на вероятности.\n",
        "- Семейный статус: заёмщики, не бывавшие в браке, или, не зарегистрировавшие его, имеют наибольший риск не возврата кредита. Средний риск соответствует женатым клиентам, или находящимся замужем. Минимальный риск у группы людей, уже побывавших в браке.\n",
        "- Уровень дохода: заёмщики группы D (доход ниже среднего) чаще возвращают кредиты в срок в сравнение с группой С (средний доход). Ещё реже возвращают кредит заёмщики из групп A и E, но этот вывод может оказаться недостоверным из-за их малой численности. Тоже самое касается группы B, которая показала минимальный риск не возврата кредита.\n",
        "- Цель: Кредиты предназначенные для *проведения свадеб* и совершению *операций с недвижимостью* имеют наименьший риск.\n",
        "\n",
        "На основе полученных зависимостей можно комплексно применять эти параметры для прогнозирования вероятности возврата кредита в срок для потенциального клиента."
      ]
    }
  ],
  "metadata": {
    "ExecuteTimeLog": [
      {
        "duration": 45,
        "start_time": "2022-09-19T17:17:15.089Z"
      },
      {
        "duration": 412,
        "start_time": "2022-09-19T17:17:23.973Z"
      },
      {
        "duration": 20,
        "start_time": "2022-09-19T17:17:24.387Z"
      },
      {
        "duration": 32,
        "start_time": "2022-09-19T17:17:24.408Z"
      },
      {
        "duration": 17,
        "start_time": "2022-09-19T17:17:24.441Z"
      },
      {
        "duration": 45,
        "start_time": "2022-09-19T17:17:24.460Z"
      },
      {
        "duration": 3,
        "start_time": "2022-09-19T17:17:24.507Z"
      },
      {
        "duration": 22,
        "start_time": "2022-09-19T17:17:24.512Z"
      },
      {
        "duration": 6,
        "start_time": "2022-09-19T17:17:24.536Z"
      },
      {
        "duration": 16,
        "start_time": "2022-09-19T17:17:24.544Z"
      },
      {
        "duration": 20,
        "start_time": "2022-09-19T17:17:24.564Z"
      },
      {
        "duration": 42,
        "start_time": "2022-09-19T17:17:24.585Z"
      },
      {
        "duration": 10,
        "start_time": "2022-09-19T17:17:24.629Z"
      },
      {
        "duration": 4,
        "start_time": "2022-09-19T17:17:24.641Z"
      },
      {
        "duration": 28,
        "start_time": "2022-09-19T17:17:24.647Z"
      },
      {
        "duration": 21,
        "start_time": "2022-09-19T17:17:24.676Z"
      },
      {
        "duration": 24,
        "start_time": "2022-09-19T17:17:24.698Z"
      },
      {
        "duration": 12,
        "start_time": "2022-09-19T17:17:24.724Z"
      },
      {
        "duration": 29,
        "start_time": "2022-09-19T17:17:24.738Z"
      },
      {
        "duration": 17,
        "start_time": "2022-09-19T17:17:24.768Z"
      },
      {
        "duration": 8,
        "start_time": "2022-09-19T17:17:24.786Z"
      },
      {
        "duration": 42,
        "start_time": "2022-09-19T17:17:24.796Z"
      },
      {
        "duration": 20,
        "start_time": "2022-09-19T17:17:24.839Z"
      },
      {
        "duration": 29,
        "start_time": "2022-09-19T17:17:24.860Z"
      },
      {
        "duration": 11,
        "start_time": "2022-09-19T17:17:24.890Z"
      },
      {
        "duration": 22,
        "start_time": "2022-09-19T17:17:24.902Z"
      },
      {
        "duration": 19,
        "start_time": "2022-09-19T17:17:46.052Z"
      },
      {
        "duration": 84,
        "start_time": "2022-09-19T17:20:03.502Z"
      },
      {
        "duration": 19,
        "start_time": "2022-09-19T17:21:37.676Z"
      },
      {
        "duration": 23,
        "start_time": "2022-09-19T17:22:15.290Z"
      },
      {
        "duration": 4,
        "start_time": "2022-09-19T17:25:14.136Z"
      },
      {
        "duration": 14,
        "start_time": "2022-09-19T17:28:30.181Z"
      },
      {
        "duration": 12,
        "start_time": "2022-09-19T17:29:49.411Z"
      },
      {
        "duration": 17,
        "start_time": "2022-09-19T17:29:57.584Z"
      },
      {
        "duration": 48,
        "start_time": "2022-09-20T06:57:50.213Z"
      },
      {
        "duration": 757,
        "start_time": "2022-09-20T06:58:01.937Z"
      },
      {
        "duration": 27,
        "start_time": "2022-09-20T06:58:02.696Z"
      },
      {
        "duration": 20,
        "start_time": "2022-09-20T06:58:02.725Z"
      },
      {
        "duration": 9,
        "start_time": "2022-09-20T06:58:02.748Z"
      },
      {
        "duration": 60,
        "start_time": "2022-09-20T06:58:02.760Z"
      },
      {
        "duration": 5,
        "start_time": "2022-09-20T06:58:02.822Z"
      },
      {
        "duration": 13,
        "start_time": "2022-09-20T06:58:02.829Z"
      },
      {
        "duration": 5,
        "start_time": "2022-09-20T06:58:02.843Z"
      },
      {
        "duration": 11,
        "start_time": "2022-09-20T06:58:02.849Z"
      },
      {
        "duration": 6,
        "start_time": "2022-09-20T06:58:02.863Z"
      },
      {
        "duration": 59,
        "start_time": "2022-09-20T06:58:02.871Z"
      },
      {
        "duration": 10,
        "start_time": "2022-09-20T06:58:02.932Z"
      },
      {
        "duration": 6,
        "start_time": "2022-09-20T06:58:02.943Z"
      },
      {
        "duration": 18,
        "start_time": "2022-09-20T06:58:02.951Z"
      },
      {
        "duration": 23,
        "start_time": "2022-09-20T06:58:02.970Z"
      },
      {
        "duration": 42,
        "start_time": "2022-09-20T06:58:02.995Z"
      },
      {
        "duration": 5,
        "start_time": "2022-09-20T06:58:03.038Z"
      },
      {
        "duration": 19,
        "start_time": "2022-09-20T06:58:03.044Z"
      },
      {
        "duration": 11,
        "start_time": "2022-09-20T06:58:03.065Z"
      },
      {
        "duration": 8,
        "start_time": "2022-09-20T06:58:03.078Z"
      },
      {
        "duration": 40,
        "start_time": "2022-09-20T06:58:03.088Z"
      },
      {
        "duration": 32,
        "start_time": "2022-09-20T06:58:03.130Z"
      },
      {
        "duration": 2,
        "start_time": "2022-09-20T06:58:03.164Z"
      },
      {
        "duration": 20,
        "start_time": "2022-09-20T06:58:03.168Z"
      },
      {
        "duration": 13,
        "start_time": "2022-09-20T06:58:03.190Z"
      },
      {
        "duration": 31,
        "start_time": "2022-09-20T07:36:18.103Z"
      },
      {
        "duration": 1113,
        "start_time": "2022-09-20T07:50:31.476Z"
      },
      {
        "duration": 29,
        "start_time": "2022-09-20T07:50:50.723Z"
      },
      {
        "duration": 843,
        "start_time": "2022-09-20T07:51:40.442Z"
      },
      {
        "duration": 820,
        "start_time": "2022-09-20T07:51:55.616Z"
      },
      {
        "duration": 12,
        "start_time": "2022-09-20T08:10:01.053Z"
      },
      {
        "duration": 9,
        "start_time": "2022-09-20T08:11:24.142Z"
      },
      {
        "duration": 8,
        "start_time": "2022-09-20T08:11:33.604Z"
      },
      {
        "duration": 7,
        "start_time": "2022-09-20T08:11:55.335Z"
      },
      {
        "duration": 12,
        "start_time": "2022-09-20T09:16:06.978Z"
      },
      {
        "duration": 20,
        "start_time": "2022-09-20T09:19:29.833Z"
      },
      {
        "duration": 19,
        "start_time": "2022-09-20T09:20:47.934Z"
      },
      {
        "duration": 16,
        "start_time": "2022-09-20T09:21:46.810Z"
      },
      {
        "duration": 19,
        "start_time": "2022-09-20T09:22:24.710Z"
      },
      {
        "duration": 18,
        "start_time": "2022-09-20T09:22:42.885Z"
      },
      {
        "duration": 31,
        "start_time": "2022-09-20T09:44:55.073Z"
      },
      {
        "duration": 21,
        "start_time": "2022-09-20T09:46:21.407Z"
      },
      {
        "duration": 23,
        "start_time": "2022-09-20T09:46:42.236Z"
      },
      {
        "duration": 22,
        "start_time": "2022-09-20T10:00:18.105Z"
      },
      {
        "duration": 18,
        "start_time": "2022-09-20T13:35:24.672Z"
      },
      {
        "duration": 22,
        "start_time": "2022-09-20T13:36:02.666Z"
      },
      {
        "duration": 45,
        "start_time": "2022-09-20T16:21:08.733Z"
      },
      {
        "duration": 609,
        "start_time": "2022-09-20T16:21:25.551Z"
      },
      {
        "duration": 22,
        "start_time": "2022-09-20T16:21:26.162Z"
      },
      {
        "duration": 16,
        "start_time": "2022-09-20T16:21:26.185Z"
      },
      {
        "duration": 12,
        "start_time": "2022-09-20T16:21:26.203Z"
      },
      {
        "duration": 53,
        "start_time": "2022-09-20T16:21:26.216Z"
      },
      {
        "duration": 5,
        "start_time": "2022-09-20T16:21:26.270Z"
      },
      {
        "duration": 29,
        "start_time": "2022-09-20T16:21:26.276Z"
      },
      {
        "duration": 5,
        "start_time": "2022-09-20T16:21:26.307Z"
      },
      {
        "duration": 9,
        "start_time": "2022-09-20T16:21:26.314Z"
      },
      {
        "duration": 6,
        "start_time": "2022-09-20T16:21:26.325Z"
      },
      {
        "duration": 33,
        "start_time": "2022-09-20T16:21:26.333Z"
      },
      {
        "duration": 8,
        "start_time": "2022-09-20T16:21:26.368Z"
      },
      {
        "duration": 4,
        "start_time": "2022-09-20T16:21:26.401Z"
      },
      {
        "duration": 11,
        "start_time": "2022-09-20T16:21:26.406Z"
      },
      {
        "duration": 17,
        "start_time": "2022-09-20T16:21:26.419Z"
      },
      {
        "duration": 14,
        "start_time": "2022-09-20T16:21:26.438Z"
      },
      {
        "duration": 3,
        "start_time": "2022-09-20T16:21:26.453Z"
      },
      {
        "duration": 11,
        "start_time": "2022-09-20T16:21:26.458Z"
      },
      {
        "duration": 31,
        "start_time": "2022-09-20T16:21:26.470Z"
      },
      {
        "duration": 3,
        "start_time": "2022-09-20T16:21:26.503Z"
      },
      {
        "duration": 29,
        "start_time": "2022-09-20T16:21:26.507Z"
      },
      {
        "duration": 16,
        "start_time": "2022-09-20T16:21:26.538Z"
      },
      {
        "duration": 18,
        "start_time": "2022-09-20T16:21:26.555Z"
      },
      {
        "duration": 27,
        "start_time": "2022-09-20T16:21:26.574Z"
      },
      {
        "duration": 4,
        "start_time": "2022-09-20T16:21:26.603Z"
      },
      {
        "duration": 62,
        "start_time": "2022-09-20T18:00:41.947Z"
      },
      {
        "duration": 11,
        "start_time": "2022-09-20T18:01:45.380Z"
      },
      {
        "duration": 17,
        "start_time": "2022-09-20T18:02:21.512Z"
      },
      {
        "duration": 1696,
        "start_time": "2022-09-20T18:09:36.608Z"
      },
      {
        "duration": 1053,
        "start_time": "2022-09-20T18:11:06.112Z"
      },
      {
        "duration": 1269,
        "start_time": "2022-09-20T18:21:46.831Z"
      },
      {
        "duration": 25,
        "start_time": "2022-09-20T18:26:55.198Z"
      },
      {
        "duration": 122,
        "start_time": "2022-09-20T18:27:19.623Z"
      },
      {
        "duration": 118,
        "start_time": "2022-09-20T19:10:12.550Z"
      },
      {
        "duration": 31,
        "start_time": "2022-09-20T19:13:23.820Z"
      },
      {
        "duration": 29,
        "start_time": "2022-09-20T19:17:36.155Z"
      },
      {
        "duration": 115,
        "start_time": "2022-09-20T19:17:53.870Z"
      },
      {
        "duration": 67,
        "start_time": "2022-09-20T19:42:05.458Z"
      },
      {
        "duration": 17,
        "start_time": "2022-09-20T19:42:18.398Z"
      },
      {
        "duration": 13,
        "start_time": "2022-09-20T21:05:35.899Z"
      },
      {
        "duration": 114,
        "start_time": "2022-09-20T21:05:48.093Z"
      },
      {
        "duration": 4,
        "start_time": "2022-09-20T21:06:38.596Z"
      },
      {
        "duration": 21,
        "start_time": "2022-09-20T21:06:46.229Z"
      },
      {
        "duration": 19,
        "start_time": "2022-09-20T21:07:36.762Z"
      },
      {
        "duration": 19,
        "start_time": "2022-09-20T21:10:15.000Z"
      },
      {
        "duration": 18,
        "start_time": "2022-09-20T21:10:31.659Z"
      },
      {
        "duration": 68,
        "start_time": "2022-09-21T19:26:23.962Z"
      },
      {
        "duration": 1467,
        "start_time": "2022-09-22T07:05:36.317Z"
      },
      {
        "duration": 725,
        "start_time": "2022-09-22T07:06:00.520Z"
      },
      {
        "duration": 26,
        "start_time": "2022-09-22T07:06:01.247Z"
      },
      {
        "duration": 73,
        "start_time": "2022-09-22T07:06:01.275Z"
      },
      {
        "duration": 37,
        "start_time": "2022-09-22T07:06:01.351Z"
      },
      {
        "duration": 67,
        "start_time": "2022-09-22T07:06:01.390Z"
      },
      {
        "duration": 5,
        "start_time": "2022-09-22T07:06:01.459Z"
      },
      {
        "duration": 63,
        "start_time": "2022-09-22T07:06:01.466Z"
      },
      {
        "duration": 53,
        "start_time": "2022-09-22T07:06:01.531Z"
      },
      {
        "duration": 41,
        "start_time": "2022-09-22T07:06:01.586Z"
      },
      {
        "duration": 54,
        "start_time": "2022-09-22T07:06:01.631Z"
      },
      {
        "duration": 89,
        "start_time": "2022-09-22T07:06:01.688Z"
      },
      {
        "duration": 12,
        "start_time": "2022-09-22T07:06:01.779Z"
      },
      {
        "duration": 33,
        "start_time": "2022-09-22T07:06:01.793Z"
      },
      {
        "duration": 45,
        "start_time": "2022-09-22T07:06:01.828Z"
      },
      {
        "duration": 56,
        "start_time": "2022-09-22T07:06:01.875Z"
      },
      {
        "duration": 24,
        "start_time": "2022-09-22T07:06:01.933Z"
      },
      {
        "duration": 20,
        "start_time": "2022-09-22T07:06:01.959Z"
      },
      {
        "duration": 43,
        "start_time": "2022-09-22T07:06:01.981Z"
      },
      {
        "duration": 31,
        "start_time": "2022-09-22T07:06:02.026Z"
      },
      {
        "duration": 30,
        "start_time": "2022-09-22T07:06:02.059Z"
      },
      {
        "duration": 72,
        "start_time": "2022-09-22T07:06:02.091Z"
      },
      {
        "duration": 39,
        "start_time": "2022-09-22T07:06:02.164Z"
      },
      {
        "duration": 54,
        "start_time": "2022-09-22T07:06:02.205Z"
      },
      {
        "duration": 1087,
        "start_time": "2022-09-22T07:06:02.260Z"
      },
      {
        "duration": 0,
        "start_time": "2022-09-22T07:06:03.349Z"
      },
      {
        "duration": 126,
        "start_time": "2022-09-22T07:07:00.005Z"
      },
      {
        "duration": 122,
        "start_time": "2022-09-22T07:08:02.702Z"
      },
      {
        "duration": 144,
        "start_time": "2022-09-22T07:08:35.810Z"
      },
      {
        "duration": 124,
        "start_time": "2022-09-22T07:08:55.850Z"
      },
      {
        "duration": 84,
        "start_time": "2022-09-22T07:11:34.234Z"
      },
      {
        "duration": 44,
        "start_time": "2022-09-23T09:51:13.691Z"
      },
      {
        "duration": 446,
        "start_time": "2022-09-23T09:51:19.711Z"
      },
      {
        "duration": 20,
        "start_time": "2022-09-23T09:51:20.160Z"
      },
      {
        "duration": 14,
        "start_time": "2022-09-23T09:51:20.182Z"
      },
      {
        "duration": 8,
        "start_time": "2022-09-23T09:51:20.199Z"
      },
      {
        "duration": 36,
        "start_time": "2022-09-23T09:51:20.209Z"
      },
      {
        "duration": 3,
        "start_time": "2022-09-23T09:51:20.247Z"
      },
      {
        "duration": 10,
        "start_time": "2022-09-23T09:51:20.252Z"
      },
      {
        "duration": 5,
        "start_time": "2022-09-23T09:51:20.264Z"
      },
      {
        "duration": 33,
        "start_time": "2022-09-23T09:51:20.270Z"
      },
      {
        "duration": 4,
        "start_time": "2022-09-23T09:51:20.307Z"
      },
      {
        "duration": 32,
        "start_time": "2022-09-23T09:51:20.312Z"
      },
      {
        "duration": 8,
        "start_time": "2022-09-23T09:51:20.346Z"
      },
      {
        "duration": 4,
        "start_time": "2022-09-23T09:51:20.355Z"
      },
      {
        "duration": 11,
        "start_time": "2022-09-23T09:51:20.360Z"
      },
      {
        "duration": 40,
        "start_time": "2022-09-23T09:51:20.372Z"
      },
      {
        "duration": 16,
        "start_time": "2022-09-23T09:51:20.413Z"
      },
      {
        "duration": 3,
        "start_time": "2022-09-23T09:51:20.430Z"
      },
      {
        "duration": 12,
        "start_time": "2022-09-23T09:51:20.435Z"
      },
      {
        "duration": 9,
        "start_time": "2022-09-23T09:51:20.448Z"
      },
      {
        "duration": 3,
        "start_time": "2022-09-23T09:51:20.458Z"
      },
      {
        "duration": 48,
        "start_time": "2022-09-23T09:51:20.462Z"
      },
      {
        "duration": 15,
        "start_time": "2022-09-23T09:51:20.511Z"
      },
      {
        "duration": 18,
        "start_time": "2022-09-23T09:51:20.528Z"
      },
      {
        "duration": 890,
        "start_time": "2022-09-23T09:51:20.547Z"
      },
      {
        "duration": 2524,
        "start_time": "2022-09-23T09:51:21.439Z"
      },
      {
        "duration": 0,
        "start_time": "2022-09-23T09:51:23.965Z"
      },
      {
        "duration": 8,
        "start_time": "2022-09-23T09:51:33.151Z"
      },
      {
        "duration": 5,
        "start_time": "2022-09-23T09:51:38.593Z"
      },
      {
        "duration": 10,
        "start_time": "2022-09-23T09:51:42.481Z"
      },
      {
        "duration": 448,
        "start_time": "2022-09-23T09:52:51.515Z"
      },
      {
        "duration": 22,
        "start_time": "2022-09-23T09:52:51.965Z"
      },
      {
        "duration": 13,
        "start_time": "2022-09-23T09:52:51.988Z"
      },
      {
        "duration": 8,
        "start_time": "2022-09-23T09:52:52.002Z"
      },
      {
        "duration": 31,
        "start_time": "2022-09-23T09:52:52.012Z"
      },
      {
        "duration": 4,
        "start_time": "2022-09-23T09:52:52.044Z"
      },
      {
        "duration": 12,
        "start_time": "2022-09-23T09:52:52.049Z"
      },
      {
        "duration": 12,
        "start_time": "2022-09-23T09:52:52.063Z"
      },
      {
        "duration": 9,
        "start_time": "2022-09-23T09:52:52.077Z"
      },
      {
        "duration": 15,
        "start_time": "2022-09-23T09:52:52.089Z"
      },
      {
        "duration": 35,
        "start_time": "2022-09-23T09:52:52.106Z"
      },
      {
        "duration": 8,
        "start_time": "2022-09-23T09:52:52.143Z"
      },
      {
        "duration": 8,
        "start_time": "2022-09-23T09:52:52.152Z"
      },
      {
        "duration": 12,
        "start_time": "2022-09-23T09:52:52.162Z"
      },
      {
        "duration": 31,
        "start_time": "2022-09-23T09:52:52.175Z"
      },
      {
        "duration": 16,
        "start_time": "2022-09-23T09:52:52.207Z"
      },
      {
        "duration": 3,
        "start_time": "2022-09-23T09:52:52.224Z"
      },
      {
        "duration": 11,
        "start_time": "2022-09-23T09:52:52.229Z"
      },
      {
        "duration": 5,
        "start_time": "2022-09-23T09:52:52.242Z"
      },
      {
        "duration": 4,
        "start_time": "2022-09-23T09:52:52.248Z"
      },
      {
        "duration": 48,
        "start_time": "2022-09-23T09:52:52.253Z"
      },
      {
        "duration": 16,
        "start_time": "2022-09-23T09:52:52.303Z"
      },
      {
        "duration": 18,
        "start_time": "2022-09-23T09:52:52.321Z"
      },
      {
        "duration": 880,
        "start_time": "2022-09-23T09:52:52.341Z"
      },
      {
        "duration": 20,
        "start_time": "2022-09-23T09:52:53.222Z"
      },
      {
        "duration": 402,
        "start_time": "2022-09-23T16:55:15.342Z"
      },
      {
        "duration": 20,
        "start_time": "2022-09-23T16:55:15.746Z"
      },
      {
        "duration": 13,
        "start_time": "2022-09-23T16:55:15.767Z"
      },
      {
        "duration": 21,
        "start_time": "2022-09-23T16:55:15.782Z"
      },
      {
        "duration": 30,
        "start_time": "2022-09-23T16:55:15.805Z"
      },
      {
        "duration": 3,
        "start_time": "2022-09-23T16:55:15.836Z"
      },
      {
        "duration": 10,
        "start_time": "2022-09-23T16:55:15.840Z"
      },
      {
        "duration": 4,
        "start_time": "2022-09-23T16:55:15.851Z"
      },
      {
        "duration": 8,
        "start_time": "2022-09-23T16:55:15.856Z"
      },
      {
        "duration": 4,
        "start_time": "2022-09-23T16:55:15.867Z"
      },
      {
        "duration": 31,
        "start_time": "2022-09-23T16:55:15.900Z"
      },
      {
        "duration": 8,
        "start_time": "2022-09-23T16:55:15.933Z"
      },
      {
        "duration": 3,
        "start_time": "2022-09-23T16:55:15.942Z"
      },
      {
        "duration": 12,
        "start_time": "2022-09-23T16:55:15.946Z"
      },
      {
        "duration": 17,
        "start_time": "2022-09-23T16:55:15.959Z"
      },
      {
        "duration": 16,
        "start_time": "2022-09-23T16:55:16.000Z"
      },
      {
        "duration": 4,
        "start_time": "2022-09-23T16:55:16.017Z"
      },
      {
        "duration": 9,
        "start_time": "2022-09-23T16:55:16.023Z"
      },
      {
        "duration": 6,
        "start_time": "2022-09-23T16:55:16.033Z"
      },
      {
        "duration": 3,
        "start_time": "2022-09-23T16:55:16.041Z"
      },
      {
        "duration": 54,
        "start_time": "2022-09-23T16:55:16.046Z"
      },
      {
        "duration": 17,
        "start_time": "2022-09-23T16:55:16.102Z"
      },
      {
        "duration": 19,
        "start_time": "2022-09-23T16:55:16.121Z"
      },
      {
        "duration": 782,
        "start_time": "2022-09-23T16:55:16.141Z"
      },
      {
        "duration": 21,
        "start_time": "2022-09-23T16:55:16.924Z"
      }
    ],
    "colab": {
      "provenance": [],
      "collapsed_sections": [
        "44b13cc1",
        "e5221ad0",
        "cf64418f",
        "c234915d",
        "35c7271d",
        "24bdf51c",
        "fb843eb4"
      ],
      "toc_visible": true
    },
    "kernelspec": {
      "display_name": "Python 3",
      "language": "python",
      "name": "python3"
    },
    "language_info": {
      "codemirror_mode": {
        "name": "ipython",
        "version": 3
      },
      "file_extension": ".py",
      "mimetype": "text/x-python",
      "name": "python",
      "nbconvert_exporter": "python",
      "pygments_lexer": "ipython3",
      "version": "3.8.8"
    },
    "toc": {
      "base_numbering": 1,
      "nav_menu": {},
      "number_sections": true,
      "sideBar": true,
      "skip_h1_title": true,
      "title_cell": "Table of Contents",
      "title_sidebar": "Contents",
      "toc_cell": false,
      "toc_position": {},
      "toc_section_display": true,
      "toc_window_display": false
    }
  },
  "nbformat": 4,
  "nbformat_minor": 5
}